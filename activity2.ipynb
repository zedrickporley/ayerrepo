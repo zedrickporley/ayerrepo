{
 "cells": [
  {
   "cell_type": "code",
   "execution_count": null,
   "id": "f5652beb-1811-472e-a160-c5ef542d9ed5",
   "metadata": {},
   "outputs": [],
   "source": [
    "import numpy as np\n",
    "import seaborn as sns\n",
    "import matplotlib.pyplot as plt\n",
    "import pandas as pd"
   ]
  },
  {
   "cell_type": "code",
   "execution_count": null,
   "id": "bf80d470-8389-421e-9037-7fcfd314e2be",
   "metadata": {},
   "outputs": [],
   "source": [
    "peng = pd.read_csv('Datasets//penguins.csv')"
   ]
  },
  {
   "cell_type": "code",
   "execution_count": null,
   "id": "fe07f72b-85db-45cd-8530-bf6394152f3d",
   "metadata": {},
   "outputs": [],
   "source": [
    "peng "
   ]
  },
  {
   "cell_type": "code",
   "execution_count": null,
   "id": "04f1e84c-f3b2-4d89-a82c-8ed650dff63b",
   "metadata": {},
   "outputs": [],
   "source": [
    "peng.describe()"
   ]
  },
  {
   "cell_type": "code",
   "execution_count": null,
   "id": "aaa4d37d-4539-4a49-b254-61b24f485a88",
   "metadata": {},
   "outputs": [],
   "source": [
    "peng.isnull().sum()"
   ]
  },
  {
   "cell_type": "code",
   "execution_count": null,
   "id": "76044aa1-1dc5-452a-b226-b5dd48387c63",
   "metadata": {},
   "outputs": [],
   "source": [
    "peng['bill_length_mm'] = peng['bill_length_mm'].fillna(peng['bill_length_mm'].mean())"
   ]
  },
  {
   "cell_type": "code",
   "execution_count": null,
   "id": "95c13298-2ff7-49af-8132-6d166263f2e9",
   "metadata": {},
   "outputs": [],
   "source": [
    "peng['bill_depth_mm'] = peng['bill_depth_mm'].fillna(peng['bill_depth_mm'].mean())"
   ]
  },
  {
   "cell_type": "code",
   "execution_count": null,
   "id": "999bade7-035f-40d9-b18f-f70d66e51cf6",
   "metadata": {},
   "outputs": [],
   "source": [
    "peng['flipper_length_mm'] = peng['flipper_length_mm'].fillna(peng['flipper_length_mm'].mean())"
   ]
  },
  {
   "cell_type": "code",
   "execution_count": null,
   "id": "6121b718-919f-44b4-80d0-257056926516",
   "metadata": {},
   "outputs": [],
   "source": [
    "peng['body_mass_g'] = peng['body_mass_g'].fillna(peng['body_mass_g'].mean())"
   ]
  },
  {
   "cell_type": "code",
   "execution_count": null,
   "id": "a5022a2d-5233-4014-8f9b-3bd00177f7f3",
   "metadata": {},
   "outputs": [],
   "source": [
    "peng['sex'] = peng['sex'].fillna(peng['sex'].mode()[0])"
   ]
  },
  {
   "cell_type": "code",
   "execution_count": 45,
   "id": "c8c893a7-a234-425f-9aef-fe04a84c763b",
   "metadata": {},
   "outputs": [
    {
     "data": {
      "text/plain": [
       "rowid                0\n",
       "species              0\n",
       "island               0\n",
       "bill_length_mm       0\n",
       "bill_depth_mm        0\n",
       "flipper_length_mm    0\n",
       "body_mass_g          0\n",
       "sex                  0\n",
       "year                 0\n",
       "wkilo                0\n",
       "dtype: int64"
      ]
     },
     "execution_count": 45,
     "metadata": {},
     "output_type": "execute_result"
    }
   ],
   "source": [
    "peng.isnull().sum()"
   ]
  },
  {
   "cell_type": "code",
   "execution_count": 46,
   "id": "ca9454f4-4845-4708-919b-93ab29275548",
   "metadata": {},
   "outputs": [],
   "source": [
    "peng['year'] =peng['year'].astype('category')"
   ]
  },
  {
   "cell_type": "code",
   "execution_count": 47,
   "id": "5f0a5f28-8a89-40d7-9132-8246269d924f",
   "metadata": {},
   "outputs": [],
   "source": [
    "peng['island'] =peng['island'].astype('category')"
   ]
  },
  {
   "cell_type": "code",
   "execution_count": 48,
   "id": "53016abc-7e66-45dc-8a8e-bd665cbcbf5a",
   "metadata": {},
   "outputs": [],
   "source": [
    "peng['species'] =peng['species'].astype('category')"
   ]
  },
  {
   "cell_type": "code",
   "execution_count": 49,
   "id": "f0d44d56-9105-4ce1-9a35-f8a299f6bef3",
   "metadata": {},
   "outputs": [],
   "source": [
    "peng['sex'] =peng['sex'].astype('category')"
   ]
  },
  {
   "cell_type": "code",
   "execution_count": 50,
   "id": "99cd8e29-6e59-4664-b941-3270c7b0b01b",
   "metadata": {},
   "outputs": [],
   "source": [
    "peng['rowid'] =peng['rowid'].astype('category')"
   ]
  },
  {
   "cell_type": "code",
   "execution_count": 51,
   "id": "a4315d07-a81f-4cb6-99ae-bf0375f74b9e",
   "metadata": {},
   "outputs": [
    {
     "data": {
      "text/plain": [
       "rowid                category\n",
       "species              category\n",
       "island               category\n",
       "bill_length_mm        float64\n",
       "bill_depth_mm         float64\n",
       "flipper_length_mm     float64\n",
       "body_mass_g           float64\n",
       "sex                  category\n",
       "year                 category\n",
       "wkilo                 float64\n",
       "dtype: object"
      ]
     },
     "execution_count": 51,
     "metadata": {},
     "output_type": "execute_result"
    }
   ],
   "source": [
    "peng.dtypes"
   ]
  },
  {
   "cell_type": "code",
   "execution_count": 52,
   "id": "3047c322-e52e-4d5a-9894-b334bd04d427",
   "metadata": {},
   "outputs": [
    {
     "data": {
      "text/plain": [
       "species\n",
       "Adelie       152\n",
       "Gentoo       124\n",
       "Chinstrap     68\n",
       "Name: count, dtype: int64"
      ]
     },
     "execution_count": 52,
     "metadata": {},
     "output_type": "execute_result"
    }
   ],
   "source": [
    "peng['species'].value_counts()"
   ]
  },
  {
   "cell_type": "code",
   "execution_count": 53,
   "id": "c556ff64-090f-4039-be98-284c0fccddcd",
   "metadata": {},
   "outputs": [
    {
     "data": {
      "text/html": [
       "<div>\n",
       "<style scoped>\n",
       "    .dataframe tbody tr th:only-of-type {\n",
       "        vertical-align: middle;\n",
       "    }\n",
       "\n",
       "    .dataframe tbody tr th {\n",
       "        vertical-align: top;\n",
       "    }\n",
       "\n",
       "    .dataframe thead th {\n",
       "        text-align: right;\n",
       "    }\n",
       "</style>\n",
       "<table border=\"1\" class=\"dataframe\">\n",
       "  <thead>\n",
       "    <tr style=\"text-align: right;\">\n",
       "      <th></th>\n",
       "      <th>rowid</th>\n",
       "      <th>species</th>\n",
       "      <th>island</th>\n",
       "      <th>bill_length_mm</th>\n",
       "      <th>bill_depth_mm</th>\n",
       "      <th>flipper_length_mm</th>\n",
       "      <th>body_mass_g</th>\n",
       "      <th>sex</th>\n",
       "      <th>year</th>\n",
       "      <th>wkilo</th>\n",
       "    </tr>\n",
       "  </thead>\n",
       "  <tbody>\n",
       "    <tr>\n",
       "      <th>0</th>\n",
       "      <td>1</td>\n",
       "      <td>Adelie</td>\n",
       "      <td>Torgersen</td>\n",
       "      <td>39.10000</td>\n",
       "      <td>18.70000</td>\n",
       "      <td>181.000000</td>\n",
       "      <td>3750.000000</td>\n",
       "      <td>male</td>\n",
       "      <td>2007</td>\n",
       "      <td>3.8</td>\n",
       "    </tr>\n",
       "    <tr>\n",
       "      <th>1</th>\n",
       "      <td>2</td>\n",
       "      <td>Adelie</td>\n",
       "      <td>Torgersen</td>\n",
       "      <td>39.50000</td>\n",
       "      <td>17.40000</td>\n",
       "      <td>186.000000</td>\n",
       "      <td>3800.000000</td>\n",
       "      <td>female</td>\n",
       "      <td>2007</td>\n",
       "      <td>3.8</td>\n",
       "    </tr>\n",
       "    <tr>\n",
       "      <th>2</th>\n",
       "      <td>3</td>\n",
       "      <td>Adelie</td>\n",
       "      <td>Torgersen</td>\n",
       "      <td>40.30000</td>\n",
       "      <td>18.00000</td>\n",
       "      <td>195.000000</td>\n",
       "      <td>3250.000000</td>\n",
       "      <td>female</td>\n",
       "      <td>2007</td>\n",
       "      <td>3.2</td>\n",
       "    </tr>\n",
       "    <tr>\n",
       "      <th>3</th>\n",
       "      <td>4</td>\n",
       "      <td>Adelie</td>\n",
       "      <td>Torgersen</td>\n",
       "      <td>43.92193</td>\n",
       "      <td>17.15117</td>\n",
       "      <td>200.915205</td>\n",
       "      <td>4201.754386</td>\n",
       "      <td>male</td>\n",
       "      <td>2007</td>\n",
       "      <td>4.2</td>\n",
       "    </tr>\n",
       "    <tr>\n",
       "      <th>4</th>\n",
       "      <td>5</td>\n",
       "      <td>Adelie</td>\n",
       "      <td>Torgersen</td>\n",
       "      <td>36.70000</td>\n",
       "      <td>19.30000</td>\n",
       "      <td>193.000000</td>\n",
       "      <td>3450.000000</td>\n",
       "      <td>female</td>\n",
       "      <td>2007</td>\n",
       "      <td>3.4</td>\n",
       "    </tr>\n",
       "    <tr>\n",
       "      <th>...</th>\n",
       "      <td>...</td>\n",
       "      <td>...</td>\n",
       "      <td>...</td>\n",
       "      <td>...</td>\n",
       "      <td>...</td>\n",
       "      <td>...</td>\n",
       "      <td>...</td>\n",
       "      <td>...</td>\n",
       "      <td>...</td>\n",
       "      <td>...</td>\n",
       "    </tr>\n",
       "    <tr>\n",
       "      <th>147</th>\n",
       "      <td>148</td>\n",
       "      <td>Adelie</td>\n",
       "      <td>Dream</td>\n",
       "      <td>36.60000</td>\n",
       "      <td>18.40000</td>\n",
       "      <td>184.000000</td>\n",
       "      <td>3475.000000</td>\n",
       "      <td>female</td>\n",
       "      <td>2009</td>\n",
       "      <td>3.5</td>\n",
       "    </tr>\n",
       "    <tr>\n",
       "      <th>148</th>\n",
       "      <td>149</td>\n",
       "      <td>Adelie</td>\n",
       "      <td>Dream</td>\n",
       "      <td>36.00000</td>\n",
       "      <td>17.80000</td>\n",
       "      <td>195.000000</td>\n",
       "      <td>3450.000000</td>\n",
       "      <td>female</td>\n",
       "      <td>2009</td>\n",
       "      <td>3.4</td>\n",
       "    </tr>\n",
       "    <tr>\n",
       "      <th>149</th>\n",
       "      <td>150</td>\n",
       "      <td>Adelie</td>\n",
       "      <td>Dream</td>\n",
       "      <td>37.80000</td>\n",
       "      <td>18.10000</td>\n",
       "      <td>193.000000</td>\n",
       "      <td>3750.000000</td>\n",
       "      <td>male</td>\n",
       "      <td>2009</td>\n",
       "      <td>3.8</td>\n",
       "    </tr>\n",
       "    <tr>\n",
       "      <th>150</th>\n",
       "      <td>151</td>\n",
       "      <td>Adelie</td>\n",
       "      <td>Dream</td>\n",
       "      <td>36.00000</td>\n",
       "      <td>17.10000</td>\n",
       "      <td>187.000000</td>\n",
       "      <td>3700.000000</td>\n",
       "      <td>female</td>\n",
       "      <td>2009</td>\n",
       "      <td>3.7</td>\n",
       "    </tr>\n",
       "    <tr>\n",
       "      <th>151</th>\n",
       "      <td>152</td>\n",
       "      <td>Adelie</td>\n",
       "      <td>Dream</td>\n",
       "      <td>41.50000</td>\n",
       "      <td>18.50000</td>\n",
       "      <td>201.000000</td>\n",
       "      <td>4000.000000</td>\n",
       "      <td>male</td>\n",
       "      <td>2009</td>\n",
       "      <td>4.0</td>\n",
       "    </tr>\n",
       "  </tbody>\n",
       "</table>\n",
       "<p>152 rows × 10 columns</p>\n",
       "</div>"
      ],
      "text/plain": [
       "    rowid species     island  bill_length_mm  bill_depth_mm  \\\n",
       "0       1  Adelie  Torgersen        39.10000       18.70000   \n",
       "1       2  Adelie  Torgersen        39.50000       17.40000   \n",
       "2       3  Adelie  Torgersen        40.30000       18.00000   \n",
       "3       4  Adelie  Torgersen        43.92193       17.15117   \n",
       "4       5  Adelie  Torgersen        36.70000       19.30000   \n",
       "..    ...     ...        ...             ...            ...   \n",
       "147   148  Adelie      Dream        36.60000       18.40000   \n",
       "148   149  Adelie      Dream        36.00000       17.80000   \n",
       "149   150  Adelie      Dream        37.80000       18.10000   \n",
       "150   151  Adelie      Dream        36.00000       17.10000   \n",
       "151   152  Adelie      Dream        41.50000       18.50000   \n",
       "\n",
       "     flipper_length_mm  body_mass_g     sex  year  wkilo  \n",
       "0           181.000000  3750.000000    male  2007    3.8  \n",
       "1           186.000000  3800.000000  female  2007    3.8  \n",
       "2           195.000000  3250.000000  female  2007    3.2  \n",
       "3           200.915205  4201.754386    male  2007    4.2  \n",
       "4           193.000000  3450.000000  female  2007    3.4  \n",
       "..                 ...          ...     ...   ...    ...  \n",
       "147         184.000000  3475.000000  female  2009    3.5  \n",
       "148         195.000000  3450.000000  female  2009    3.4  \n",
       "149         193.000000  3750.000000    male  2009    3.8  \n",
       "150         187.000000  3700.000000  female  2009    3.7  \n",
       "151         201.000000  4000.000000    male  2009    4.0  \n",
       "\n",
       "[152 rows x 10 columns]"
      ]
     },
     "execution_count": 53,
     "metadata": {},
     "output_type": "execute_result"
    }
   ],
   "source": [
    "peng[peng['species'] == 'Adelie']"
   ]
  },
  {
   "cell_type": "markdown",
   "id": "ce286721-ec53-4cc2-be86-db6d5eb5fe75",
   "metadata": {},
   "source": [
    "<h2> #1 Does the penguins specie Adelie lives exclusively on an island? \n",
    "<h1> Insight No. 1 Penguins does not live exclusively on an Island"
   ]
  },
  {
   "cell_type": "markdown",
   "id": "896554f7-62bc-43a2-8332-70c24d278f6a",
   "metadata": {},
   "source": [
    "<h2> Adelie on Biscoe Island"
   ]
  },
  {
   "cell_type": "code",
   "execution_count": 54,
   "id": "344df1b2-0f0a-4b96-85c6-c61653ea2ea9",
   "metadata": {},
   "outputs": [
    {
     "data": {
      "text/plain": [
       "0       True\n",
       "1       True\n",
       "2       True\n",
       "3       True\n",
       "4       True\n",
       "       ...  \n",
       "339    False\n",
       "340    False\n",
       "341    False\n",
       "342    False\n",
       "343    False\n",
       "Name: species, Length: 344, dtype: bool"
      ]
     },
     "execution_count": 54,
     "metadata": {},
     "output_type": "execute_result"
    }
   ],
   "source": [
    "peng['species'] == 'Adelie'"
   ]
  },
  {
   "cell_type": "code",
   "execution_count": 55,
   "id": "7cbb3dcc-1c0b-4531-9d23-d59cdede6a82",
   "metadata": {
    "scrolled": true
   },
   "outputs": [],
   "source": [
    "adelie_biscoe = peng[(peng['species'] == 'Adelie') & (peng['island'] == 'Biscoe')] "
   ]
  },
  {
   "cell_type": "code",
   "execution_count": 56,
   "id": "f2d4f463-c09a-4f0b-a429-f61849f897fd",
   "metadata": {},
   "outputs": [
    {
     "data": {
      "text/plain": [
       "rowid                44\n",
       "species              44\n",
       "island               44\n",
       "bill_length_mm       44\n",
       "bill_depth_mm        44\n",
       "flipper_length_mm    44\n",
       "body_mass_g          44\n",
       "sex                  44\n",
       "year                 44\n",
       "wkilo                44\n",
       "dtype: int64"
      ]
     },
     "execution_count": 56,
     "metadata": {},
     "output_type": "execute_result"
    }
   ],
   "source": [
    "peng[(peng['species'] == 'Adelie') & (peng['island'] == 'Biscoe')].count()"
   ]
  },
  {
   "cell_type": "code",
   "execution_count": 57,
   "id": "35a2d16a-9fb0-40d0-b974-76827fa8f558",
   "metadata": {},
   "outputs": [
    {
     "data": {
      "text/plain": [
       "island\n",
       "Biscoe       168\n",
       "Dream        124\n",
       "Torgersen     52\n",
       "Name: count, dtype: int64"
      ]
     },
     "execution_count": 57,
     "metadata": {},
     "output_type": "execute_result"
    }
   ],
   "source": [
    "peng['island'].value_counts()"
   ]
  },
  {
   "cell_type": "markdown",
   "id": "5a623d6c-a4c2-499c-99a0-626cc466ae07",
   "metadata": {},
   "source": [
    "<h2> Adelie on Biscoe Dream"
   ]
  },
  {
   "cell_type": "code",
   "execution_count": 58,
   "id": "ea7ed9ec-bb2b-4a43-ac11-30ae3ed491bd",
   "metadata": {},
   "outputs": [],
   "source": [
    "adelie_dream = peng[(peng['species'] == 'Adelie') & (peng['island'] == 'Dream')]"
   ]
  },
  {
   "cell_type": "code",
   "execution_count": 59,
   "id": "882bf30a-29bb-43a9-9598-55b88b4ecf06",
   "metadata": {},
   "outputs": [
    {
     "data": {
      "text/plain": [
       "rowid                56\n",
       "species              56\n",
       "island               56\n",
       "bill_length_mm       56\n",
       "bill_depth_mm        56\n",
       "flipper_length_mm    56\n",
       "body_mass_g          56\n",
       "sex                  56\n",
       "year                 56\n",
       "wkilo                56\n",
       "dtype: int64"
      ]
     },
     "execution_count": 59,
     "metadata": {},
     "output_type": "execute_result"
    }
   ],
   "source": [
    "peng[(peng['species'] == 'Adelie') & (peng['island'] == 'Dream')].count()"
   ]
  },
  {
   "cell_type": "markdown",
   "id": "6fb393b8-5e65-4aba-a705-d8836fde2b5a",
   "metadata": {},
   "source": [
    "<h2> Adelie on Biscoe Torgersen"
   ]
  },
  {
   "cell_type": "code",
   "execution_count": 60,
   "id": "22ca723d-10ec-40be-a2e2-6a6c1e29c9f4",
   "metadata": {},
   "outputs": [],
   "source": [
    "adelie_torg = peng[(peng['species'] == 'Adelie') & (peng['island'] == 'Torgersen')]"
   ]
  },
  {
   "cell_type": "code",
   "execution_count": 61,
   "id": "24fd448e-8b7e-418a-98df-1deb07ac18e3",
   "metadata": {},
   "outputs": [
    {
     "data": {
      "text/plain": [
       "rowid                52\n",
       "species              52\n",
       "island               52\n",
       "bill_length_mm       52\n",
       "bill_depth_mm        52\n",
       "flipper_length_mm    52\n",
       "body_mass_g          52\n",
       "sex                  52\n",
       "year                 52\n",
       "wkilo                52\n",
       "dtype: int64"
      ]
     },
     "execution_count": 61,
     "metadata": {},
     "output_type": "execute_result"
    }
   ],
   "source": [
    "peng[(peng['species'] == 'Adelie') & (peng['island'] == 'Torgersen')].count()"
   ]
  },
  {
   "cell_type": "code",
   "execution_count": 62,
   "id": "cf6dd7c2-65e1-498e-ae51-ffe2b66205d7",
   "metadata": {},
   "outputs": [
    {
     "data": {
      "text/plain": [
       "species\n",
       "Adelie       152\n",
       "Gentoo       124\n",
       "Chinstrap     68\n",
       "Name: count, dtype: int64"
      ]
     },
     "execution_count": 62,
     "metadata": {},
     "output_type": "execute_result"
    }
   ],
   "source": [
    "peng['species'].value_counts()"
   ]
  },
  {
   "cell_type": "markdown",
   "id": "1638d79d-8d8a-4ecb-a206-cff608a48ad5",
   "metadata": {},
   "source": [
    "<h2> Gentoo on Biscoe Island"
   ]
  },
  {
   "cell_type": "markdown",
   "id": "39239a97-72e1-4385-9118-e14af9673db8",
   "metadata": {},
   "source": [
    "<h1> Insight No. 2 Gentoo only live in Gentoo Island"
   ]
  },
  {
   "cell_type": "code",
   "execution_count": 63,
   "id": "50d3803f-e31a-4af4-a45e-d081a008dec4",
   "metadata": {},
   "outputs": [],
   "source": [
    "gentoo_bis = peng[(peng['species'] == 'Gentoo') & (peng['island'] == 'Biscoe')].count()"
   ]
  },
  {
   "cell_type": "code",
   "execution_count": 64,
   "id": "3da12855-ce9f-4677-a3a6-bc1300a54304",
   "metadata": {},
   "outputs": [
    {
     "data": {
      "text/plain": [
       "rowid                124\n",
       "species              124\n",
       "island               124\n",
       "bill_length_mm       124\n",
       "bill_depth_mm        124\n",
       "flipper_length_mm    124\n",
       "body_mass_g          124\n",
       "sex                  124\n",
       "year                 124\n",
       "wkilo                124\n",
       "dtype: int64"
      ]
     },
     "execution_count": 64,
     "metadata": {},
     "output_type": "execute_result"
    }
   ],
   "source": [
    "peng[(peng['species'] == 'Gentoo') & (peng['island'] == 'Biscoe')].count()"
   ]
  },
  {
   "cell_type": "markdown",
   "id": "f011bd34-e8e5-4df7-b019-a7b8e02704e7",
   "metadata": {},
   "source": [
    "<h2> Gentoo on Dream Island"
   ]
  },
  {
   "cell_type": "code",
   "execution_count": 65,
   "id": "04f22161-a024-4e62-858c-5b498ca88239",
   "metadata": {},
   "outputs": [],
   "source": [
    "gentoo_drm = peng[(peng['species'] == 'Gentoo') & (peng['island'] == 'Dream')].count()"
   ]
  },
  {
   "cell_type": "code",
   "execution_count": 66,
   "id": "c17f1da5-b399-4fa9-b366-fb52c0626ed2",
   "metadata": {},
   "outputs": [
    {
     "data": {
      "text/plain": [
       "rowid                0\n",
       "species              0\n",
       "island               0\n",
       "bill_length_mm       0\n",
       "bill_depth_mm        0\n",
       "flipper_length_mm    0\n",
       "body_mass_g          0\n",
       "sex                  0\n",
       "year                 0\n",
       "wkilo                0\n",
       "dtype: int64"
      ]
     },
     "execution_count": 66,
     "metadata": {},
     "output_type": "execute_result"
    }
   ],
   "source": [
    "peng[(peng['species'] == 'Gentoo') & (peng['island'] == 'Dream')].count()"
   ]
  },
  {
   "cell_type": "markdown",
   "id": "516cf26a-7b67-4152-9536-7e7d29a6a9bd",
   "metadata": {},
   "source": [
    "<h2> Gentoo on Torgersen Island"
   ]
  },
  {
   "cell_type": "code",
   "execution_count": 67,
   "id": "b779d800-d211-47bf-8832-0e6420250a41",
   "metadata": {},
   "outputs": [],
   "source": [
    "gentoo_torg = peng[(peng['species'] == 'Gentoo') & (peng['island'] == 'Torgersen')].count()"
   ]
  },
  {
   "cell_type": "code",
   "execution_count": 68,
   "id": "559d93b8-eea2-42f6-b3d5-8f9115a995d1",
   "metadata": {},
   "outputs": [
    {
     "data": {
      "text/plain": [
       "rowid                0\n",
       "species              0\n",
       "island               0\n",
       "bill_length_mm       0\n",
       "bill_depth_mm        0\n",
       "flipper_length_mm    0\n",
       "body_mass_g          0\n",
       "sex                  0\n",
       "year                 0\n",
       "wkilo                0\n",
       "dtype: int64"
      ]
     },
     "execution_count": 68,
     "metadata": {},
     "output_type": "execute_result"
    }
   ],
   "source": [
    "peng[(peng['species'] == 'Gentoo') & (peng['island'] == 'Torgersen')].count()"
   ]
  },
  {
   "cell_type": "markdown",
   "id": "8d9a5c21-ad08-4a9c-b72a-54d0a103e99e",
   "metadata": {},
   "source": [
    "<h2> Chinstrap on Biscoe Island"
   ]
  },
  {
   "cell_type": "code",
   "execution_count": 69,
   "id": "65b90d63-97b3-4a57-a31d-6a71e20d5bf5",
   "metadata": {},
   "outputs": [],
   "source": [
    "chins_bisc = peng[(peng['species'] == 'Chinstrap') & (peng['island'] == 'Biscoe')].count()"
   ]
  },
  {
   "cell_type": "code",
   "execution_count": 70,
   "id": "11ddfba3-e579-49cf-8ced-00273dc08b8e",
   "metadata": {},
   "outputs": [
    {
     "data": {
      "text/plain": [
       "rowid                0\n",
       "species              0\n",
       "island               0\n",
       "bill_length_mm       0\n",
       "bill_depth_mm        0\n",
       "flipper_length_mm    0\n",
       "body_mass_g          0\n",
       "sex                  0\n",
       "year                 0\n",
       "wkilo                0\n",
       "dtype: int64"
      ]
     },
     "execution_count": 70,
     "metadata": {},
     "output_type": "execute_result"
    }
   ],
   "source": [
    "peng[(peng['species'] == 'Chinstrap') & (peng['island'] == 'Biscoe')].count()"
   ]
  },
  {
   "cell_type": "markdown",
   "id": "21416ac7-7381-4495-8755-e9d80c5ae807",
   "metadata": {},
   "source": [
    "<h2> Chinstrap on Dream Island"
   ]
  },
  {
   "cell_type": "code",
   "execution_count": 71,
   "id": "aa2a01ee-3511-4b03-b545-a390703de83c",
   "metadata": {},
   "outputs": [],
   "source": [
    "chins_drm = peng[(peng['species'] == 'Chinstrap') & (peng['island'] == 'Dream')].count()"
   ]
  },
  {
   "cell_type": "code",
   "execution_count": 72,
   "id": "11950c6e-05da-4830-837f-006b7e7a8a08",
   "metadata": {},
   "outputs": [
    {
     "data": {
      "text/plain": [
       "rowid                68\n",
       "species              68\n",
       "island               68\n",
       "bill_length_mm       68\n",
       "bill_depth_mm        68\n",
       "flipper_length_mm    68\n",
       "body_mass_g          68\n",
       "sex                  68\n",
       "year                 68\n",
       "wkilo                68\n",
       "dtype: int64"
      ]
     },
     "execution_count": 72,
     "metadata": {},
     "output_type": "execute_result"
    }
   ],
   "source": [
    "peng[(peng['species'] == 'Chinstrap') & (peng['island'] == 'Dream')].count()"
   ]
  },
  {
   "cell_type": "markdown",
   "id": "2dce2e00-0c03-4022-af2c-e0ab723eba5c",
   "metadata": {},
   "source": [
    "<h2> Chinstrap on Torgersen Island"
   ]
  },
  {
   "cell_type": "code",
   "execution_count": 73,
   "id": "a816fb87-5e12-4dfc-9a68-455d7efc0952",
   "metadata": {},
   "outputs": [],
   "source": [
    "chins_torg = peng[(peng['species'] == 'Chinstrap') & (peng['island'] == 'Dream')].count()"
   ]
  },
  {
   "cell_type": "code",
   "execution_count": 74,
   "id": "7bb2b2ff-7fc9-44c4-b535-5a0565542f0e",
   "metadata": {},
   "outputs": [
    {
     "data": {
      "text/plain": [
       "rowid                0\n",
       "species              0\n",
       "island               0\n",
       "bill_length_mm       0\n",
       "bill_depth_mm        0\n",
       "flipper_length_mm    0\n",
       "body_mass_g          0\n",
       "sex                  0\n",
       "year                 0\n",
       "wkilo                0\n",
       "dtype: int64"
      ]
     },
     "execution_count": 74,
     "metadata": {},
     "output_type": "execute_result"
    }
   ],
   "source": [
    "peng[(peng['species'] == 'Chinstrap') & (peng['island'] == 'Torgersen')].count()"
   ]
  },
  {
   "cell_type": "code",
   "execution_count": 75,
   "id": "3ef3f822-2673-4df8-a860-a4cf320faf78",
   "metadata": {},
   "outputs": [
    {
     "data": {
      "text/plain": [
       "island\n",
       "Biscoe       168\n",
       "Dream        124\n",
       "Torgersen     52\n",
       "Name: count, dtype: int64"
      ]
     },
     "execution_count": 75,
     "metadata": {},
     "output_type": "execute_result"
    }
   ],
   "source": [
    "peng['island'].value_counts()"
   ]
  },
  {
   "cell_type": "markdown",
   "id": "cbc43c26-1484-4c14-9428-c1daac876650",
   "metadata": {},
   "source": [
    "<h1> Insight No. 3 Majority of penguins live in Biscoe Island"
   ]
  },
  {
   "cell_type": "markdown",
   "id": "d10ec3f9-94d6-4f0d-b493-0b1ad233b586",
   "metadata": {},
   "source": [
    "<h1> Does the Island affects the weight or body mass of a penguin specie?"
   ]
  },
  {
   "cell_type": "code",
   "execution_count": 76,
   "id": "fd5d4de2-a419-41b0-bcb1-4ddba502dbb0",
   "metadata": {},
   "outputs": [],
   "source": [
    "peng['wkilo'] = np.round(peng['body_mass_g']/1000, 1)"
   ]
  },
  {
   "cell_type": "code",
   "execution_count": 77,
   "id": "111cca6a-0a37-48d7-8c27-c5e8b288985b",
   "metadata": {
    "scrolled": true
   },
   "outputs": [
    {
     "data": {
      "text/html": [
       "<div>\n",
       "<style scoped>\n",
       "    .dataframe tbody tr th:only-of-type {\n",
       "        vertical-align: middle;\n",
       "    }\n",
       "\n",
       "    .dataframe tbody tr th {\n",
       "        vertical-align: top;\n",
       "    }\n",
       "\n",
       "    .dataframe thead th {\n",
       "        text-align: right;\n",
       "    }\n",
       "</style>\n",
       "<table border=\"1\" class=\"dataframe\">\n",
       "  <thead>\n",
       "    <tr style=\"text-align: right;\">\n",
       "      <th></th>\n",
       "      <th>rowid</th>\n",
       "      <th>species</th>\n",
       "      <th>island</th>\n",
       "      <th>bill_length_mm</th>\n",
       "      <th>bill_depth_mm</th>\n",
       "      <th>flipper_length_mm</th>\n",
       "      <th>body_mass_g</th>\n",
       "      <th>sex</th>\n",
       "      <th>year</th>\n",
       "      <th>wkilo</th>\n",
       "    </tr>\n",
       "  </thead>\n",
       "  <tbody>\n",
       "    <tr>\n",
       "      <th>0</th>\n",
       "      <td>1</td>\n",
       "      <td>Adelie</td>\n",
       "      <td>Torgersen</td>\n",
       "      <td>39.10000</td>\n",
       "      <td>18.70000</td>\n",
       "      <td>181.000000</td>\n",
       "      <td>3750.000000</td>\n",
       "      <td>male</td>\n",
       "      <td>2007</td>\n",
       "      <td>3.8</td>\n",
       "    </tr>\n",
       "    <tr>\n",
       "      <th>1</th>\n",
       "      <td>2</td>\n",
       "      <td>Adelie</td>\n",
       "      <td>Torgersen</td>\n",
       "      <td>39.50000</td>\n",
       "      <td>17.40000</td>\n",
       "      <td>186.000000</td>\n",
       "      <td>3800.000000</td>\n",
       "      <td>female</td>\n",
       "      <td>2007</td>\n",
       "      <td>3.8</td>\n",
       "    </tr>\n",
       "    <tr>\n",
       "      <th>2</th>\n",
       "      <td>3</td>\n",
       "      <td>Adelie</td>\n",
       "      <td>Torgersen</td>\n",
       "      <td>40.30000</td>\n",
       "      <td>18.00000</td>\n",
       "      <td>195.000000</td>\n",
       "      <td>3250.000000</td>\n",
       "      <td>female</td>\n",
       "      <td>2007</td>\n",
       "      <td>3.2</td>\n",
       "    </tr>\n",
       "    <tr>\n",
       "      <th>3</th>\n",
       "      <td>4</td>\n",
       "      <td>Adelie</td>\n",
       "      <td>Torgersen</td>\n",
       "      <td>43.92193</td>\n",
       "      <td>17.15117</td>\n",
       "      <td>200.915205</td>\n",
       "      <td>4201.754386</td>\n",
       "      <td>male</td>\n",
       "      <td>2007</td>\n",
       "      <td>4.2</td>\n",
       "    </tr>\n",
       "    <tr>\n",
       "      <th>4</th>\n",
       "      <td>5</td>\n",
       "      <td>Adelie</td>\n",
       "      <td>Torgersen</td>\n",
       "      <td>36.70000</td>\n",
       "      <td>19.30000</td>\n",
       "      <td>193.000000</td>\n",
       "      <td>3450.000000</td>\n",
       "      <td>female</td>\n",
       "      <td>2007</td>\n",
       "      <td>3.4</td>\n",
       "    </tr>\n",
       "    <tr>\n",
       "      <th>...</th>\n",
       "      <td>...</td>\n",
       "      <td>...</td>\n",
       "      <td>...</td>\n",
       "      <td>...</td>\n",
       "      <td>...</td>\n",
       "      <td>...</td>\n",
       "      <td>...</td>\n",
       "      <td>...</td>\n",
       "      <td>...</td>\n",
       "      <td>...</td>\n",
       "    </tr>\n",
       "    <tr>\n",
       "      <th>339</th>\n",
       "      <td>340</td>\n",
       "      <td>Chinstrap</td>\n",
       "      <td>Dream</td>\n",
       "      <td>55.80000</td>\n",
       "      <td>19.80000</td>\n",
       "      <td>207.000000</td>\n",
       "      <td>4000.000000</td>\n",
       "      <td>male</td>\n",
       "      <td>2009</td>\n",
       "      <td>4.0</td>\n",
       "    </tr>\n",
       "    <tr>\n",
       "      <th>340</th>\n",
       "      <td>341</td>\n",
       "      <td>Chinstrap</td>\n",
       "      <td>Dream</td>\n",
       "      <td>43.50000</td>\n",
       "      <td>18.10000</td>\n",
       "      <td>202.000000</td>\n",
       "      <td>3400.000000</td>\n",
       "      <td>female</td>\n",
       "      <td>2009</td>\n",
       "      <td>3.4</td>\n",
       "    </tr>\n",
       "    <tr>\n",
       "      <th>341</th>\n",
       "      <td>342</td>\n",
       "      <td>Chinstrap</td>\n",
       "      <td>Dream</td>\n",
       "      <td>49.60000</td>\n",
       "      <td>18.20000</td>\n",
       "      <td>193.000000</td>\n",
       "      <td>3775.000000</td>\n",
       "      <td>male</td>\n",
       "      <td>2009</td>\n",
       "      <td>3.8</td>\n",
       "    </tr>\n",
       "    <tr>\n",
       "      <th>342</th>\n",
       "      <td>343</td>\n",
       "      <td>Chinstrap</td>\n",
       "      <td>Dream</td>\n",
       "      <td>50.80000</td>\n",
       "      <td>19.00000</td>\n",
       "      <td>210.000000</td>\n",
       "      <td>4100.000000</td>\n",
       "      <td>male</td>\n",
       "      <td>2009</td>\n",
       "      <td>4.1</td>\n",
       "    </tr>\n",
       "    <tr>\n",
       "      <th>343</th>\n",
       "      <td>344</td>\n",
       "      <td>Chinstrap</td>\n",
       "      <td>Dream</td>\n",
       "      <td>50.20000</td>\n",
       "      <td>18.70000</td>\n",
       "      <td>198.000000</td>\n",
       "      <td>3775.000000</td>\n",
       "      <td>female</td>\n",
       "      <td>2009</td>\n",
       "      <td>3.8</td>\n",
       "    </tr>\n",
       "  </tbody>\n",
       "</table>\n",
       "<p>344 rows × 10 columns</p>\n",
       "</div>"
      ],
      "text/plain": [
       "    rowid    species     island  bill_length_mm  bill_depth_mm  \\\n",
       "0       1     Adelie  Torgersen        39.10000       18.70000   \n",
       "1       2     Adelie  Torgersen        39.50000       17.40000   \n",
       "2       3     Adelie  Torgersen        40.30000       18.00000   \n",
       "3       4     Adelie  Torgersen        43.92193       17.15117   \n",
       "4       5     Adelie  Torgersen        36.70000       19.30000   \n",
       "..    ...        ...        ...             ...            ...   \n",
       "339   340  Chinstrap      Dream        55.80000       19.80000   \n",
       "340   341  Chinstrap      Dream        43.50000       18.10000   \n",
       "341   342  Chinstrap      Dream        49.60000       18.20000   \n",
       "342   343  Chinstrap      Dream        50.80000       19.00000   \n",
       "343   344  Chinstrap      Dream        50.20000       18.70000   \n",
       "\n",
       "     flipper_length_mm  body_mass_g     sex  year  wkilo  \n",
       "0           181.000000  3750.000000    male  2007    3.8  \n",
       "1           186.000000  3800.000000  female  2007    3.8  \n",
       "2           195.000000  3250.000000  female  2007    3.2  \n",
       "3           200.915205  4201.754386    male  2007    4.2  \n",
       "4           193.000000  3450.000000  female  2007    3.4  \n",
       "..                 ...          ...     ...   ...    ...  \n",
       "339         207.000000  4000.000000    male  2009    4.0  \n",
       "340         202.000000  3400.000000  female  2009    3.4  \n",
       "341         193.000000  3775.000000    male  2009    3.8  \n",
       "342         210.000000  4100.000000    male  2009    4.1  \n",
       "343         198.000000  3775.000000  female  2009    3.8  \n",
       "\n",
       "[344 rows x 10 columns]"
      ]
     },
     "execution_count": 77,
     "metadata": {},
     "output_type": "execute_result"
    }
   ],
   "source": [
    "peng"
   ]
  },
  {
   "cell_type": "markdown",
   "id": "55dee9e2-7eeb-44c5-b944-f545f3316116",
   "metadata": {},
   "source": [
    "<h1> Adelie Biscoe"
   ]
  },
  {
   "cell_type": "code",
   "execution_count": 78,
   "id": "604555e6-570f-480d-8f50-76c65af094bc",
   "metadata": {},
   "outputs": [
    {
     "data": {
      "text/plain": [
       "np.float64(3.715909090909091)"
      ]
     },
     "execution_count": 78,
     "metadata": {},
     "output_type": "execute_result"
    }
   ],
   "source": [
    "adelie_biscoe['wkilo'].mean()"
   ]
  },
  {
   "cell_type": "code",
   "execution_count": 79,
   "id": "5758c552-5650-4824-a48e-43c65032484f",
   "metadata": {},
   "outputs": [
    {
     "data": {
      "text/plain": [
       "np.float64(3.7)"
      ]
     },
     "execution_count": 79,
     "metadata": {},
     "output_type": "execute_result"
    }
   ],
   "source": [
    "np.round(adelie_biscoe['wkilo'].mean(), 1)"
   ]
  },
  {
   "cell_type": "markdown",
   "id": "fbbaa933-991f-4a91-af5b-d601c2972504",
   "metadata": {},
   "source": [
    "<h1> Adelie Dream"
   ]
  },
  {
   "cell_type": "code",
   "execution_count": 80,
   "id": "19c7703e-2a16-4828-ab95-3b154297f176",
   "metadata": {},
   "outputs": [
    {
     "data": {
      "text/plain": [
       "np.float64(3.6910714285714286)"
      ]
     },
     "execution_count": 80,
     "metadata": {},
     "output_type": "execute_result"
    }
   ],
   "source": [
    "adelie_dream['wkilo'].mean()"
   ]
  },
  {
   "cell_type": "code",
   "execution_count": 81,
   "id": "80caeec7-bb5c-4b7c-856b-85d74f2182bb",
   "metadata": {},
   "outputs": [
    {
     "data": {
      "text/plain": [
       "np.float64(3.7)"
      ]
     },
     "execution_count": 81,
     "metadata": {},
     "output_type": "execute_result"
    }
   ],
   "source": [
    "np.round(adelie_dream['wkilo'].mean(), 1)"
   ]
  },
  {
   "cell_type": "markdown",
   "id": "1a06fe71-7ac6-4a2f-ad36-bf53320ff0c0",
   "metadata": {},
   "source": [
    "<h1> Adelie Torgersen"
   ]
  },
  {
   "cell_type": "code",
   "execution_count": 82,
   "id": "5c563842-9c4d-44ff-9a48-a82f0d67c19a",
   "metadata": {},
   "outputs": [
    {
     "data": {
      "text/plain": [
       "np.float64(3.7115384615384617)"
      ]
     },
     "execution_count": 82,
     "metadata": {},
     "output_type": "execute_result"
    }
   ],
   "source": [
    "adelie_torg['wkilo'].mean()"
   ]
  },
  {
   "cell_type": "code",
   "execution_count": 83,
   "id": "fa7cf20d-c811-40f7-bb77-b08e35eddd1b",
   "metadata": {},
   "outputs": [
    {
     "data": {
      "text/plain": [
       "np.float64(3.7)"
      ]
     },
     "execution_count": 83,
     "metadata": {},
     "output_type": "execute_result"
    }
   ],
   "source": [
    "np.round(adelie_torg['wkilo'].mean(), 1)"
   ]
  },
  {
   "cell_type": "markdown",
   "id": "c23157d4-1015-4e2e-ae52-7e6e7984b833",
   "metadata": {},
   "source": [
    "<h1> Gentoo Biscoe"
   ]
  },
  {
   "cell_type": "code",
   "execution_count": 84,
   "id": "ff531669-c7a8-4e96-b736-726c632f2950",
   "metadata": {},
   "outputs": [
    {
     "data": {
      "text/plain": [
       "np.float64(124.0)"
      ]
     },
     "execution_count": 84,
     "metadata": {},
     "output_type": "execute_result"
    }
   ],
   "source": [
    "gentoo_bis['wkilo'].mean()"
   ]
  },
  {
   "cell_type": "code",
   "execution_count": 85,
   "id": "53f1922d-826a-4d82-b439-b8dbe0e618c3",
   "metadata": {},
   "outputs": [
    {
     "data": {
      "text/plain": [
       "np.float64(124.0)"
      ]
     },
     "execution_count": 85,
     "metadata": {},
     "output_type": "execute_result"
    }
   ],
   "source": [
    "np.round(gentoo_bis['wkilo'].mean(), 1)"
   ]
  },
  {
   "cell_type": "markdown",
   "id": "83a70bd8-89cf-44db-ad49-d759fcaa2458",
   "metadata": {},
   "source": [
    "<h1> Gentoo Dream"
   ]
  },
  {
   "cell_type": "code",
   "execution_count": 86,
   "id": "0cfe564e-2826-4420-84e0-8b8780511c1f",
   "metadata": {},
   "outputs": [
    {
     "data": {
      "text/plain": [
       "np.float64(0.0)"
      ]
     },
     "execution_count": 86,
     "metadata": {},
     "output_type": "execute_result"
    }
   ],
   "source": [
    "gentoo_drm['wkilo'].mean()"
   ]
  },
  {
   "cell_type": "code",
   "execution_count": 87,
   "id": "1552af84-999e-4528-9785-e84243c7a430",
   "metadata": {},
   "outputs": [
    {
     "data": {
      "text/plain": [
       "np.float64(0.0)"
      ]
     },
     "execution_count": 87,
     "metadata": {},
     "output_type": "execute_result"
    }
   ],
   "source": [
    "np.round(gentoo_drm['wkilo'].mean(), 1)"
   ]
  },
  {
   "cell_type": "markdown",
   "id": "f7e7416b-7e5f-4504-a5e9-96ba49ad4955",
   "metadata": {},
   "source": [
    "<h1> Gentoo Torgersen"
   ]
  },
  {
   "cell_type": "code",
   "execution_count": 88,
   "id": "d231d81b-4dcc-4fa6-8b7b-f5072f216c48",
   "metadata": {},
   "outputs": [
    {
     "data": {
      "text/plain": [
       "np.float64(0.0)"
      ]
     },
     "execution_count": 88,
     "metadata": {},
     "output_type": "execute_result"
    }
   ],
   "source": [
    "gentoo_torg['wkilo'].mean()"
   ]
  },
  {
   "cell_type": "code",
   "execution_count": 89,
   "id": "446159e5-e175-4960-8f53-9a9f07084933",
   "metadata": {},
   "outputs": [
    {
     "data": {
      "text/plain": [
       "np.float64(0.0)"
      ]
     },
     "execution_count": 89,
     "metadata": {},
     "output_type": "execute_result"
    }
   ],
   "source": [
    "np.round(gentoo_torg['wkilo'].mean(), 1)"
   ]
  },
  {
   "cell_type": "markdown",
   "id": "88b126a7-830f-4a40-919d-4ead477a07a6",
   "metadata": {},
   "source": [
    "<h1> Chinstrap Biscoe"
   ]
  },
  {
   "cell_type": "code",
   "execution_count": 90,
   "id": "7782bea6-d425-4ad7-abb1-8330661b822f",
   "metadata": {},
   "outputs": [
    {
     "data": {
      "text/plain": [
       "np.float64(0.0)"
      ]
     },
     "execution_count": 90,
     "metadata": {},
     "output_type": "execute_result"
    }
   ],
   "source": [
    "chins_bisc['wkilo'].mean()"
   ]
  },
  {
   "cell_type": "code",
   "execution_count": 91,
   "id": "73314b1b-c906-4c1d-b923-a4db23f5675f",
   "metadata": {},
   "outputs": [
    {
     "data": {
      "text/plain": [
       "np.float64(0.0)"
      ]
     },
     "execution_count": 91,
     "metadata": {},
     "output_type": "execute_result"
    }
   ],
   "source": [
    "np.round(chins_bisc['wkilo'].mean(), 1)"
   ]
  },
  {
   "cell_type": "markdown",
   "id": "76944a82-e4c1-4bcb-a931-e85c6ae3c0d2",
   "metadata": {},
   "source": [
    "<h1> Chinstrap Dream"
   ]
  },
  {
   "cell_type": "code",
   "execution_count": 92,
   "id": "455ab5db-c264-46fe-b9f4-7d9500be0cd1",
   "metadata": {},
   "outputs": [
    {
     "data": {
      "text/plain": [
       "np.float64(68.0)"
      ]
     },
     "execution_count": 92,
     "metadata": {},
     "output_type": "execute_result"
    }
   ],
   "source": [
    "chins_drm['wkilo'].mean()"
   ]
  },
  {
   "cell_type": "code",
   "execution_count": 93,
   "id": "25488072-b513-4e8b-83c6-a6c3ceaba812",
   "metadata": {},
   "outputs": [
    {
     "data": {
      "text/plain": [
       "np.float64(68.0)"
      ]
     },
     "execution_count": 93,
     "metadata": {},
     "output_type": "execute_result"
    }
   ],
   "source": [
    "np.round(chins_drm['wkilo'].mean(), 1)"
   ]
  },
  {
   "cell_type": "markdown",
   "id": "2058d8bb-231a-4f7b-aa18-c57f9c6895d7",
   "metadata": {},
   "source": [
    "<h1> Chinstrap Torgersen"
   ]
  },
  {
   "cell_type": "code",
   "execution_count": 94,
   "id": "563de5a4-8089-43df-ada6-aa851f7c45c4",
   "metadata": {},
   "outputs": [
    {
     "data": {
      "text/plain": [
       "np.float64(68.0)"
      ]
     },
     "execution_count": 94,
     "metadata": {},
     "output_type": "execute_result"
    }
   ],
   "source": [
    "chins_torg['wkilo'].mean()"
   ]
  },
  {
   "cell_type": "code",
   "execution_count": 95,
   "id": "61f0cc33-ae58-4745-b2b9-30c3838d8c99",
   "metadata": {},
   "outputs": [
    {
     "data": {
      "text/plain": [
       "np.float64(68.0)"
      ]
     },
     "execution_count": 95,
     "metadata": {},
     "output_type": "execute_result"
    }
   ],
   "source": [
    "np.round(chins_torg['wkilo'].mean(), 1)"
   ]
  },
  {
   "cell_type": "markdown",
   "id": "41bc06e1-29b7-470c-be85-382b20763284",
   "metadata": {},
   "source": [
    "<h1> Insight No. 4 The Average Kilo Adelie regardless of island is 3.7 "
   ]
  },
  {
   "cell_type": "markdown",
   "id": "9a11c99a-9e3b-492f-91bc-f60ba85b2951",
   "metadata": {},
   "source": [
    "<h1> Insight No. 5 The Average Kilo of Gentoo on Biscoe Island is 124.0"
   ]
  },
  {
   "cell_type": "markdown",
   "id": "29405f27-4491-4c2a-950e-891788844faa",
   "metadata": {},
   "source": [
    "<h1> Insight No. 6 The Average Kilo of Chinstrap on Torgersen and Dream Islan is 68.0"
   ]
  },
  {
   "cell_type": "markdown",
   "id": "a43ecb6b-6024-445b-93f7-cf43c04261fc",
   "metadata": {},
   "source": [
    "<h1> Insight No. 7  Gentoo has the highest average Kilo."
   ]
  },
  {
   "cell_type": "code",
   "execution_count": 96,
   "id": "d5442e3b-96fb-40ac-b4ae-a043ae835450",
   "metadata": {},
   "outputs": [
    {
     "name": "stderr",
     "output_type": "stream",
     "text": [
      "C:\\Users\\LAB4-StudentPC37\\AppData\\Local\\Temp\\ipykernel_5812\\4097172016.py:1: FutureWarning: The default of observed=False is deprecated and will be changed to True in a future version of pandas. Pass observed=False to retain current behavior or observed=True to adopt the future default and silence this warning.\n",
      "  peng_agg = peng.groupby([\"species\", \"island\", \"sex\"]).count()\n"
     ]
    }
   ],
   "source": [
    "peng_agg = peng.groupby([\"species\", \"island\", \"sex\"]).count()"
   ]
  },
  {
   "cell_type": "code",
   "execution_count": 97,
   "id": "9a31f4b3-fd0a-4388-9d4d-9a86297c29ba",
   "metadata": {},
   "outputs": [
    {
     "data": {
      "text/html": [
       "<div>\n",
       "<style scoped>\n",
       "    .dataframe tbody tr th:only-of-type {\n",
       "        vertical-align: middle;\n",
       "    }\n",
       "\n",
       "    .dataframe tbody tr th {\n",
       "        vertical-align: top;\n",
       "    }\n",
       "\n",
       "    .dataframe thead th {\n",
       "        text-align: right;\n",
       "    }\n",
       "</style>\n",
       "<table border=\"1\" class=\"dataframe\">\n",
       "  <thead>\n",
       "    <tr style=\"text-align: right;\">\n",
       "      <th></th>\n",
       "      <th></th>\n",
       "      <th></th>\n",
       "      <th>rowid</th>\n",
       "      <th>bill_length_mm</th>\n",
       "      <th>bill_depth_mm</th>\n",
       "      <th>flipper_length_mm</th>\n",
       "      <th>body_mass_g</th>\n",
       "      <th>year</th>\n",
       "      <th>wkilo</th>\n",
       "    </tr>\n",
       "    <tr>\n",
       "      <th>species</th>\n",
       "      <th>island</th>\n",
       "      <th>sex</th>\n",
       "      <th></th>\n",
       "      <th></th>\n",
       "      <th></th>\n",
       "      <th></th>\n",
       "      <th></th>\n",
       "      <th></th>\n",
       "      <th></th>\n",
       "    </tr>\n",
       "  </thead>\n",
       "  <tbody>\n",
       "    <tr>\n",
       "      <th rowspan=\"6\" valign=\"top\">Adelie</th>\n",
       "      <th rowspan=\"2\" valign=\"top\">Biscoe</th>\n",
       "      <th>female</th>\n",
       "      <td>22</td>\n",
       "      <td>22</td>\n",
       "      <td>22</td>\n",
       "      <td>22</td>\n",
       "      <td>22</td>\n",
       "      <td>22</td>\n",
       "      <td>22</td>\n",
       "    </tr>\n",
       "    <tr>\n",
       "      <th>male</th>\n",
       "      <td>22</td>\n",
       "      <td>22</td>\n",
       "      <td>22</td>\n",
       "      <td>22</td>\n",
       "      <td>22</td>\n",
       "      <td>22</td>\n",
       "      <td>22</td>\n",
       "    </tr>\n",
       "    <tr>\n",
       "      <th rowspan=\"2\" valign=\"top\">Dream</th>\n",
       "      <th>female</th>\n",
       "      <td>27</td>\n",
       "      <td>27</td>\n",
       "      <td>27</td>\n",
       "      <td>27</td>\n",
       "      <td>27</td>\n",
       "      <td>27</td>\n",
       "      <td>27</td>\n",
       "    </tr>\n",
       "    <tr>\n",
       "      <th>male</th>\n",
       "      <td>29</td>\n",
       "      <td>29</td>\n",
       "      <td>29</td>\n",
       "      <td>29</td>\n",
       "      <td>29</td>\n",
       "      <td>29</td>\n",
       "      <td>29</td>\n",
       "    </tr>\n",
       "    <tr>\n",
       "      <th rowspan=\"2\" valign=\"top\">Torgersen</th>\n",
       "      <th>female</th>\n",
       "      <td>24</td>\n",
       "      <td>24</td>\n",
       "      <td>24</td>\n",
       "      <td>24</td>\n",
       "      <td>24</td>\n",
       "      <td>24</td>\n",
       "      <td>24</td>\n",
       "    </tr>\n",
       "    <tr>\n",
       "      <th>male</th>\n",
       "      <td>28</td>\n",
       "      <td>28</td>\n",
       "      <td>28</td>\n",
       "      <td>28</td>\n",
       "      <td>28</td>\n",
       "      <td>28</td>\n",
       "      <td>28</td>\n",
       "    </tr>\n",
       "    <tr>\n",
       "      <th rowspan=\"6\" valign=\"top\">Chinstrap</th>\n",
       "      <th rowspan=\"2\" valign=\"top\">Biscoe</th>\n",
       "      <th>female</th>\n",
       "      <td>0</td>\n",
       "      <td>0</td>\n",
       "      <td>0</td>\n",
       "      <td>0</td>\n",
       "      <td>0</td>\n",
       "      <td>0</td>\n",
       "      <td>0</td>\n",
       "    </tr>\n",
       "    <tr>\n",
       "      <th>male</th>\n",
       "      <td>0</td>\n",
       "      <td>0</td>\n",
       "      <td>0</td>\n",
       "      <td>0</td>\n",
       "      <td>0</td>\n",
       "      <td>0</td>\n",
       "      <td>0</td>\n",
       "    </tr>\n",
       "    <tr>\n",
       "      <th rowspan=\"2\" valign=\"top\">Dream</th>\n",
       "      <th>female</th>\n",
       "      <td>34</td>\n",
       "      <td>34</td>\n",
       "      <td>34</td>\n",
       "      <td>34</td>\n",
       "      <td>34</td>\n",
       "      <td>34</td>\n",
       "      <td>34</td>\n",
       "    </tr>\n",
       "    <tr>\n",
       "      <th>male</th>\n",
       "      <td>34</td>\n",
       "      <td>34</td>\n",
       "      <td>34</td>\n",
       "      <td>34</td>\n",
       "      <td>34</td>\n",
       "      <td>34</td>\n",
       "      <td>34</td>\n",
       "    </tr>\n",
       "    <tr>\n",
       "      <th rowspan=\"2\" valign=\"top\">Torgersen</th>\n",
       "      <th>female</th>\n",
       "      <td>0</td>\n",
       "      <td>0</td>\n",
       "      <td>0</td>\n",
       "      <td>0</td>\n",
       "      <td>0</td>\n",
       "      <td>0</td>\n",
       "      <td>0</td>\n",
       "    </tr>\n",
       "    <tr>\n",
       "      <th>male</th>\n",
       "      <td>0</td>\n",
       "      <td>0</td>\n",
       "      <td>0</td>\n",
       "      <td>0</td>\n",
       "      <td>0</td>\n",
       "      <td>0</td>\n",
       "      <td>0</td>\n",
       "    </tr>\n",
       "    <tr>\n",
       "      <th rowspan=\"6\" valign=\"top\">Gentoo</th>\n",
       "      <th rowspan=\"2\" valign=\"top\">Biscoe</th>\n",
       "      <th>female</th>\n",
       "      <td>58</td>\n",
       "      <td>58</td>\n",
       "      <td>58</td>\n",
       "      <td>58</td>\n",
       "      <td>58</td>\n",
       "      <td>58</td>\n",
       "      <td>58</td>\n",
       "    </tr>\n",
       "    <tr>\n",
       "      <th>male</th>\n",
       "      <td>66</td>\n",
       "      <td>66</td>\n",
       "      <td>66</td>\n",
       "      <td>66</td>\n",
       "      <td>66</td>\n",
       "      <td>66</td>\n",
       "      <td>66</td>\n",
       "    </tr>\n",
       "    <tr>\n",
       "      <th rowspan=\"2\" valign=\"top\">Dream</th>\n",
       "      <th>female</th>\n",
       "      <td>0</td>\n",
       "      <td>0</td>\n",
       "      <td>0</td>\n",
       "      <td>0</td>\n",
       "      <td>0</td>\n",
       "      <td>0</td>\n",
       "      <td>0</td>\n",
       "    </tr>\n",
       "    <tr>\n",
       "      <th>male</th>\n",
       "      <td>0</td>\n",
       "      <td>0</td>\n",
       "      <td>0</td>\n",
       "      <td>0</td>\n",
       "      <td>0</td>\n",
       "      <td>0</td>\n",
       "      <td>0</td>\n",
       "    </tr>\n",
       "    <tr>\n",
       "      <th rowspan=\"2\" valign=\"top\">Torgersen</th>\n",
       "      <th>female</th>\n",
       "      <td>0</td>\n",
       "      <td>0</td>\n",
       "      <td>0</td>\n",
       "      <td>0</td>\n",
       "      <td>0</td>\n",
       "      <td>0</td>\n",
       "      <td>0</td>\n",
       "    </tr>\n",
       "    <tr>\n",
       "      <th>male</th>\n",
       "      <td>0</td>\n",
       "      <td>0</td>\n",
       "      <td>0</td>\n",
       "      <td>0</td>\n",
       "      <td>0</td>\n",
       "      <td>0</td>\n",
       "      <td>0</td>\n",
       "    </tr>\n",
       "  </tbody>\n",
       "</table>\n",
       "</div>"
      ],
      "text/plain": [
       "                            rowid  bill_length_mm  bill_depth_mm  \\\n",
       "species   island    sex                                            \n",
       "Adelie    Biscoe    female     22              22             22   \n",
       "                    male       22              22             22   \n",
       "          Dream     female     27              27             27   \n",
       "                    male       29              29             29   \n",
       "          Torgersen female     24              24             24   \n",
       "                    male       28              28             28   \n",
       "Chinstrap Biscoe    female      0               0              0   \n",
       "                    male        0               0              0   \n",
       "          Dream     female     34              34             34   \n",
       "                    male       34              34             34   \n",
       "          Torgersen female      0               0              0   \n",
       "                    male        0               0              0   \n",
       "Gentoo    Biscoe    female     58              58             58   \n",
       "                    male       66              66             66   \n",
       "          Dream     female      0               0              0   \n",
       "                    male        0               0              0   \n",
       "          Torgersen female      0               0              0   \n",
       "                    male        0               0              0   \n",
       "\n",
       "                            flipper_length_mm  body_mass_g  year  wkilo  \n",
       "species   island    sex                                                  \n",
       "Adelie    Biscoe    female                 22           22    22     22  \n",
       "                    male                   22           22    22     22  \n",
       "          Dream     female                 27           27    27     27  \n",
       "                    male                   29           29    29     29  \n",
       "          Torgersen female                 24           24    24     24  \n",
       "                    male                   28           28    28     28  \n",
       "Chinstrap Biscoe    female                  0            0     0      0  \n",
       "                    male                    0            0     0      0  \n",
       "          Dream     female                 34           34    34     34  \n",
       "                    male                   34           34    34     34  \n",
       "          Torgersen female                  0            0     0      0  \n",
       "                    male                    0            0     0      0  \n",
       "Gentoo    Biscoe    female                 58           58    58     58  \n",
       "                    male                   66           66    66     66  \n",
       "          Dream     female                  0            0     0      0  \n",
       "                    male                    0            0     0      0  \n",
       "          Torgersen female                  0            0     0      0  \n",
       "                    male                    0            0     0      0  "
      ]
     },
     "execution_count": 97,
     "metadata": {},
     "output_type": "execute_result"
    }
   ],
   "source": [
    "peng_agg"
   ]
  },
  {
   "cell_type": "code",
   "execution_count": 98,
   "id": "db6e848c-2d9b-4650-95af-f717cd857449",
   "metadata": {},
   "outputs": [
    {
     "name": "stderr",
     "output_type": "stream",
     "text": [
      "C:\\Users\\LAB4-StudentPC37\\AppData\\Local\\Temp\\ipykernel_5812\\2469604902.py:1: FutureWarning: The default of observed=False is deprecated and will be changed to True in a future version of pandas. Pass observed=False to retain current behavior or observed=True to adopt the future default and silence this warning.\n",
      "  peng_agg = peng.groupby([\"species\", \"year\", \"sex\"]).size()\n"
     ]
    }
   ],
   "source": [
    "peng_agg = peng.groupby([\"species\", \"year\", \"sex\"]).size()"
   ]
  },
  {
   "cell_type": "code",
   "execution_count": 99,
   "id": "2b27fbea-29f9-4f5f-8e3e-13bc79a01860",
   "metadata": {},
   "outputs": [
    {
     "data": {
      "text/plain": [
       "species    year  sex   \n",
       "Adelie     2007  female    22\n",
       "                 male      28\n",
       "           2008  female    25\n",
       "                 male      25\n",
       "           2009  female    26\n",
       "                 male      26\n",
       "Chinstrap  2007  female    13\n",
       "                 male      13\n",
       "           2008  female     9\n",
       "                 male       9\n",
       "           2009  female    12\n",
       "                 male      12\n",
       "Gentoo     2007  female    16\n",
       "                 male      18\n",
       "           2008  female    22\n",
       "                 male      24\n",
       "           2009  female    20\n",
       "                 male      24\n",
       "dtype: int64"
      ]
     },
     "execution_count": 99,
     "metadata": {},
     "output_type": "execute_result"
    }
   ],
   "source": [
    "peng_agg"
   ]
  },
  {
   "cell_type": "markdown",
   "id": "ff576934-e08d-4c58-9736-5a4f930e2e0d",
   "metadata": {},
   "source": [
    "<h1> Insight No. 8  2007 has the most recorded data of male adelie."
   ]
  },
  {
   "cell_type": "code",
   "execution_count": 100,
   "id": "2e2c9b6e-75d1-44d3-9c9a-109c5ea1900b",
   "metadata": {},
   "outputs": [
    {
     "data": {
      "text/html": [
       "<div>\n",
       "<style scoped>\n",
       "    .dataframe tbody tr th:only-of-type {\n",
       "        vertical-align: middle;\n",
       "    }\n",
       "\n",
       "    .dataframe tbody tr th {\n",
       "        vertical-align: top;\n",
       "    }\n",
       "\n",
       "    .dataframe thead th {\n",
       "        text-align: right;\n",
       "    }\n",
       "</style>\n",
       "<table border=\"1\" class=\"dataframe\">\n",
       "  <thead>\n",
       "    <tr style=\"text-align: right;\">\n",
       "      <th></th>\n",
       "      <th>sex</th>\n",
       "      <th>female</th>\n",
       "      <th>male</th>\n",
       "    </tr>\n",
       "    <tr>\n",
       "      <th>species</th>\n",
       "      <th>year</th>\n",
       "      <th></th>\n",
       "      <th></th>\n",
       "    </tr>\n",
       "  </thead>\n",
       "  <tbody>\n",
       "    <tr>\n",
       "      <th rowspan=\"3\" valign=\"top\">Adelie</th>\n",
       "      <th>2007</th>\n",
       "      <td>22</td>\n",
       "      <td>28</td>\n",
       "    </tr>\n",
       "    <tr>\n",
       "      <th>2008</th>\n",
       "      <td>25</td>\n",
       "      <td>25</td>\n",
       "    </tr>\n",
       "    <tr>\n",
       "      <th>2009</th>\n",
       "      <td>26</td>\n",
       "      <td>26</td>\n",
       "    </tr>\n",
       "    <tr>\n",
       "      <th rowspan=\"3\" valign=\"top\">Chinstrap</th>\n",
       "      <th>2007</th>\n",
       "      <td>13</td>\n",
       "      <td>13</td>\n",
       "    </tr>\n",
       "    <tr>\n",
       "      <th>2008</th>\n",
       "      <td>9</td>\n",
       "      <td>9</td>\n",
       "    </tr>\n",
       "    <tr>\n",
       "      <th>2009</th>\n",
       "      <td>12</td>\n",
       "      <td>12</td>\n",
       "    </tr>\n",
       "    <tr>\n",
       "      <th rowspan=\"3\" valign=\"top\">Gentoo</th>\n",
       "      <th>2007</th>\n",
       "      <td>16</td>\n",
       "      <td>18</td>\n",
       "    </tr>\n",
       "    <tr>\n",
       "      <th>2008</th>\n",
       "      <td>22</td>\n",
       "      <td>24</td>\n",
       "    </tr>\n",
       "    <tr>\n",
       "      <th>2009</th>\n",
       "      <td>20</td>\n",
       "      <td>24</td>\n",
       "    </tr>\n",
       "  </tbody>\n",
       "</table>\n",
       "</div>"
      ],
      "text/plain": [
       "sex             female  male\n",
       "species   year              \n",
       "Adelie    2007      22    28\n",
       "          2008      25    25\n",
       "          2009      26    26\n",
       "Chinstrap 2007      13    13\n",
       "          2008       9     9\n",
       "          2009      12    12\n",
       "Gentoo    2007      16    18\n",
       "          2008      22    24\n",
       "          2009      20    24"
      ]
     },
     "execution_count": 100,
     "metadata": {},
     "output_type": "execute_result"
    }
   ],
   "source": [
    "peng_agg.unstack()"
   ]
  },
  {
   "cell_type": "markdown",
   "id": "543e599b-aad9-41b8-adc4-965e188cfa5e",
   "metadata": {},
   "source": [
    "<h2> How to use .Groupby Function"
   ]
  },
  {
   "cell_type": "markdown",
   "id": "ee96f94d-b013-4acb-891e-1d94300cd713",
   "metadata": {},
   "source": [
    "<h2> Which is heavier between penguins species in terms of SEX?"
   ]
  },
  {
   "cell_type": "code",
   "execution_count": 101,
   "id": "2d9e5d0e-0cfe-48bc-a787-09491a7793c6",
   "metadata": {},
   "outputs": [
    {
     "name": "stderr",
     "output_type": "stream",
     "text": [
      "C:\\Users\\LAB4-StudentPC37\\AppData\\Local\\Temp\\ipykernel_5812\\1633964691.py:1: FutureWarning: The default of observed=False is deprecated and will be changed to True in a future version of pandas. Pass observed=False to retain current behavior or observed=True to adopt the future default and silence this warning.\n",
      "  weight_sex = np.round(peng.groupby(['species', 'sex' ])['wkilo'].mean() , 1)\n"
     ]
    }
   ],
   "source": [
    "weight_sex = np.round(peng.groupby(['species', 'sex' ])['wkilo'].mean() , 1)"
   ]
  },
  {
   "cell_type": "code",
   "execution_count": 102,
   "id": "69236f07-b386-4856-8322-68abad61863f",
   "metadata": {},
   "outputs": [
    {
     "data": {
      "text/plain": [
       "species    sex   \n",
       "Adelie     female    3.4\n",
       "           male      4.0\n",
       "Chinstrap  female    3.5\n",
       "           male      3.9\n",
       "Gentoo     female    4.7\n",
       "           male      5.4\n",
       "Name: wkilo, dtype: float64"
      ]
     },
     "execution_count": 102,
     "metadata": {},
     "output_type": "execute_result"
    }
   ],
   "source": [
    "weight_sex"
   ]
  },
  {
   "cell_type": "markdown",
   "id": "70e9cfc2-17b3-4c61-86fb-c82365eaa629",
   "metadata": {},
   "source": [
    "<h1> Insight No.9 The male penguins are heavier than females. "
   ]
  },
  {
   "cell_type": "code",
   "execution_count": 103,
   "id": "25c82161-12db-462d-9381-c9918a13ad8e",
   "metadata": {},
   "outputs": [
    {
     "name": "stderr",
     "output_type": "stream",
     "text": [
      "C:\\Users\\LAB4-StudentPC37\\AppData\\Local\\Temp\\ipykernel_5812\\346156586.py:1: FutureWarning: The default of observed=False is deprecated and will be changed to True in a future version of pandas. Pass observed=False to retain current behavior or observed=True to adopt the future default and silence this warning.\n",
      "  weight_yearsx = np.round(peng.groupby(['species', 'sex', 'year' ])['wkilo'].mean() , 1)\n"
     ]
    }
   ],
   "source": [
    "weight_yearsx = np.round(peng.groupby(['species', 'sex', 'year' ])['wkilo'].mean() , 1)"
   ]
  },
  {
   "cell_type": "code",
   "execution_count": 104,
   "id": "92413c9c-49d2-402a-98b9-28b8b727bba7",
   "metadata": {},
   "outputs": [
    {
     "data": {
      "text/plain": [
       "species    sex     year\n",
       "Adelie     female  2007    3.4\n",
       "                   2008    3.4\n",
       "                   2009    3.3\n",
       "           male    2007    4.0\n",
       "                   2008    4.1\n",
       "                   2009    4.0\n",
       "Chinstrap  female  2007    3.6\n",
       "                   2008    3.5\n",
       "                   2009    3.5\n",
       "           male    2007    3.8\n",
       "                   2008    4.1\n",
       "                   2009    3.9\n",
       "Gentoo     female  2007    4.6\n",
       "                   2008    4.6\n",
       "                   2009    4.8\n",
       "           male    2007    5.5\n",
       "                   2008    5.4\n",
       "                   2009    5.4\n",
       "Name: wkilo, dtype: float64"
      ]
     },
     "execution_count": 104,
     "metadata": {},
     "output_type": "execute_result"
    }
   ],
   "source": [
    "weight_yearsx"
   ]
  },
  {
   "cell_type": "code",
   "execution_count": 105,
   "id": "35909b28-5118-4f2c-aadd-94581801ae4e",
   "metadata": {},
   "outputs": [
    {
     "data": {
      "text/html": [
       "<div>\n",
       "<style scoped>\n",
       "    .dataframe tbody tr th:only-of-type {\n",
       "        vertical-align: middle;\n",
       "    }\n",
       "\n",
       "    .dataframe tbody tr th {\n",
       "        vertical-align: top;\n",
       "    }\n",
       "\n",
       "    .dataframe thead th {\n",
       "        text-align: right;\n",
       "    }\n",
       "</style>\n",
       "<table border=\"1\" class=\"dataframe\">\n",
       "  <thead>\n",
       "    <tr style=\"text-align: right;\">\n",
       "      <th></th>\n",
       "      <th>year</th>\n",
       "      <th>2007</th>\n",
       "      <th>2008</th>\n",
       "      <th>2009</th>\n",
       "    </tr>\n",
       "    <tr>\n",
       "      <th>species</th>\n",
       "      <th>sex</th>\n",
       "      <th></th>\n",
       "      <th></th>\n",
       "      <th></th>\n",
       "    </tr>\n",
       "  </thead>\n",
       "  <tbody>\n",
       "    <tr>\n",
       "      <th rowspan=\"2\" valign=\"top\">Adelie</th>\n",
       "      <th>female</th>\n",
       "      <td>3.4</td>\n",
       "      <td>3.4</td>\n",
       "      <td>3.3</td>\n",
       "    </tr>\n",
       "    <tr>\n",
       "      <th>male</th>\n",
       "      <td>4.0</td>\n",
       "      <td>4.1</td>\n",
       "      <td>4.0</td>\n",
       "    </tr>\n",
       "    <tr>\n",
       "      <th rowspan=\"2\" valign=\"top\">Chinstrap</th>\n",
       "      <th>female</th>\n",
       "      <td>3.6</td>\n",
       "      <td>3.5</td>\n",
       "      <td>3.5</td>\n",
       "    </tr>\n",
       "    <tr>\n",
       "      <th>male</th>\n",
       "      <td>3.8</td>\n",
       "      <td>4.1</td>\n",
       "      <td>3.9</td>\n",
       "    </tr>\n",
       "    <tr>\n",
       "      <th rowspan=\"2\" valign=\"top\">Gentoo</th>\n",
       "      <th>female</th>\n",
       "      <td>4.6</td>\n",
       "      <td>4.6</td>\n",
       "      <td>4.8</td>\n",
       "    </tr>\n",
       "    <tr>\n",
       "      <th>male</th>\n",
       "      <td>5.5</td>\n",
       "      <td>5.4</td>\n",
       "      <td>5.4</td>\n",
       "    </tr>\n",
       "  </tbody>\n",
       "</table>\n",
       "</div>"
      ],
      "text/plain": [
       "year              2007  2008  2009\n",
       "species   sex                     \n",
       "Adelie    female   3.4   3.4   3.3\n",
       "          male     4.0   4.1   4.0\n",
       "Chinstrap female   3.6   3.5   3.5\n",
       "          male     3.8   4.1   3.9\n",
       "Gentoo    female   4.6   4.6   4.8\n",
       "          male     5.5   5.4   5.4"
      ]
     },
     "execution_count": 105,
     "metadata": {},
     "output_type": "execute_result"
    }
   ],
   "source": [
    "weight_yearsx.unstack()"
   ]
  },
  {
   "cell_type": "markdown",
   "id": "309a8ac2-791d-4013-9858-0421da3bbd78",
   "metadata": {},
   "source": [
    "<h2> Question 10 "
   ]
  },
  {
   "cell_type": "markdown",
   "id": "f1c4fbc7-7bcf-4eb9-af5c-75926d56bcb6",
   "metadata": {},
   "source": [
    "<h2> What year has the highest recorded weight for male and female?"
   ]
  },
  {
   "cell_type": "markdown",
   "id": "3d902652-8eff-49d1-b2ef-2dfb1b14f62b",
   "metadata": {},
   "source": [
    "<h1> Insight No. 10 2009 has the highest recorded weight for female while 2007 has the highest weight recorded for male."
   ]
  },
  {
   "cell_type": "markdown",
   "id": "52c4bba3-918f-496e-ba5d-7092b64efaf1",
   "metadata": {},
   "source": [
    "<h2> Correlation Vs. Causation"
   ]
  },
  {
   "cell_type": "markdown",
   "id": "18dceb50-13c6-4681-9c37-59db06a3633f",
   "metadata": {},
   "source": [
    "<h3> Correlation between Bill Length and Bill Depth"
   ]
  },
  {
   "cell_type": "markdown",
   "id": "77b8634e-dada-4aa0-b080-3adaef13c2c1",
   "metadata": {},
   "source": [
    "<h2> P VALUE in Statistics"
   ]
  },
  {
   "cell_type": "markdown",
   "id": "5da0fe0c-22a6-4935-8e91-f271d1d27493",
   "metadata": {},
   "source": [
    "<h4> A p-value is a statistical treatment used to validate a hypothesis against observed data. It measures the probability of obtaining the observed results assuming that the null hypothesis is true. A lower p-value indicates greater statitical significance of the observed difference."
   ]
  },
  {
   "cell_type": "markdown",
   "id": "a1999b3f-ee0f-427f-91b6-a3a0ddfe0816",
   "metadata": {},
   "source": [
    "<h2> Anything above .5 means the two values has a strong correlation"
   ]
  },
  {
   "cell_type": "markdown",
   "id": "17b2bf52-02d2-49d0-8f86-748425bad71e",
   "metadata": {},
   "source": [
    "<h2> Anything less than .5 meaning less or no correlation"
   ]
  },
  {
   "cell_type": "markdown",
   "id": "59c9d1d8-2e99-407a-9012-83822ac32609",
   "metadata": {},
   "source": [
    "<h1> Requirements for Correlation </h1>\n",
    "<ul>\n",
    "    <li> Naming the variable</li>\n",
    "    <li> First columns to test</li>\n",
    "    <li> .corr Function</li>\n",
    "    <li> second column to test</li>\n",
    "</ul>"
   ]
  },
  {
   "cell_type": "markdown",
   "id": "56a56d0a-7e2e-4601-825c-1f4574ffcffe",
   "metadata": {},
   "source": [
    "<h1> Statistical Treatment"
   ]
  },
  {
   "cell_type": "markdown",
   "id": "6512728d-0d65-4752-a9cc-cefbc3b50474",
   "metadata": {},
   "source": [
    "<h2> Pandas Default - Pearson R Correlation"
   ]
  },
  {
   "cell_type": "markdown",
   "id": "6d1994be-8428-40d5-9ffc-e96a7eacd4b8",
   "metadata": {},
   "source": [
    "<h3> Used for measuring correlation between quantitative Data."
   ]
  },
  {
   "cell_type": "markdown",
   "id": "87fbeb1b-04cf-4bdf-8b30-cc8570917ed8",
   "metadata": {},
   "source": [
    "<h2> Correlation between length of flippers and depth of filppers"
   ]
  },
  {
   "cell_type": "code",
   "execution_count": 106,
   "id": "1deee69f-a394-4ebd-b286-25536c7cc830",
   "metadata": {},
   "outputs": [],
   "source": [
    "b_leng_dep = peng ['bill_length_mm'].corr(peng['bill_depth_mm'])"
   ]
  },
  {
   "cell_type": "code",
   "execution_count": 107,
   "id": "d394bfd2-c550-4deb-a48b-4e4103c26086",
   "metadata": {},
   "outputs": [
    {
     "data": {
      "text/plain": [
       "np.float64(-0.23505287035553282)"
      ]
     },
     "execution_count": 107,
     "metadata": {},
     "output_type": "execute_result"
    }
   ],
   "source": [
    "b_leng_dep"
   ]
  },
  {
   "cell_type": "markdown",
   "id": "82eda7fb-2e7e-442f-b5c9-8746ecc1a60a",
   "metadata": {},
   "source": [
    "<h2> Insight No. 11 There is no correlation between bill length and bill depth."
   ]
  },
  {
   "cell_type": "code",
   "execution_count": 125,
   "id": "6b91033b-cd02-4168-a92c-203d3db3df17",
   "metadata": {},
   "outputs": [],
   "source": [
    "b_leng_bod = peng ['bill_length_mm'].corr(peng['body_mass_g'])"
   ]
  },
  {
   "cell_type": "code",
   "execution_count": 109,
   "id": "6faead02-5e5b-40f6-8fc2-a57d9dc669b8",
   "metadata": {},
   "outputs": [
    {
     "data": {
      "text/plain": [
       "np.float64(0.5951098244376304)"
      ]
     },
     "execution_count": 109,
     "metadata": {},
     "output_type": "execute_result"
    }
   ],
   "source": [
    "b_leng_bod"
   ]
  },
  {
   "cell_type": "markdown",
   "id": "44a10efd-753e-4571-ae93-fd725a943d28",
   "metadata": {},
   "source": [
    "<h1> Insight No. 12 There is strong correlation between the bill length and the body mass."
   ]
  },
  {
   "cell_type": "code",
   "execution_count": 110,
   "id": "bdc9f565-abfe-47f9-8066-309ed7884c17",
   "metadata": {},
   "outputs": [],
   "source": [
    "b_ldep_bod = peng ['bill_depth_mm'].corr(peng['body_mass_g'])"
   ]
  },
  {
   "cell_type": "code",
   "execution_count": 111,
   "id": "c8890ea8-6378-4e97-8b3e-c87a64030844",
   "metadata": {},
   "outputs": [
    {
     "data": {
      "text/plain": [
       "np.float64(-0.4719156211860664)"
      ]
     },
     "execution_count": 111,
     "metadata": {},
     "output_type": "execute_result"
    }
   ],
   "source": [
    "b_ldep_bod"
   ]
  },
  {
   "cell_type": "markdown",
   "id": "6ab696f9-dd83-4c81-9295-29c34fd47554",
   "metadata": {},
   "source": [
    "<h1> Insight No. 13 There is no correlation between the bill depth and the body mass"
   ]
  },
  {
   "cell_type": "code",
   "execution_count": 123,
   "id": "2f020747-f946-42bf-be59-c5a917df3db1",
   "metadata": {},
   "outputs": [],
   "source": [
    "b_flip = peng ['bill_depth_mm'].corr(peng['flipper_length_mm'])"
   ]
  },
  {
   "cell_type": "code",
   "execution_count": 124,
   "id": "53acf9be-0580-4b1c-82bc-71ea4a7a502e",
   "metadata": {},
   "outputs": [
    {
     "data": {
      "text/plain": [
       "np.float64(-0.5838512164654122)"
      ]
     },
     "execution_count": 124,
     "metadata": {},
     "output_type": "execute_result"
    }
   ],
   "source": [
    "b_flip"
   ]
  },
  {
   "cell_type": "markdown",
   "id": "5d0ea7ae-2fb5-4fb1-97d7-d3ab8b652dff",
   "metadata": {},
   "source": [
    "<h1> Insight No. 14 There is no correlation between the flipper and the bill depth."
   ]
  },
  {
   "cell_type": "code",
   "execution_count": 112,
   "id": "f17a6126-6461-49f0-945f-5e1a070b1df5",
   "metadata": {},
   "outputs": [
    {
     "data": {
      "text/html": [
       "<div>\n",
       "<style scoped>\n",
       "    .dataframe tbody tr th:only-of-type {\n",
       "        vertical-align: middle;\n",
       "    }\n",
       "\n",
       "    .dataframe tbody tr th {\n",
       "        vertical-align: top;\n",
       "    }\n",
       "\n",
       "    .dataframe thead th {\n",
       "        text-align: right;\n",
       "    }\n",
       "</style>\n",
       "<table border=\"1\" class=\"dataframe\">\n",
       "  <thead>\n",
       "    <tr style=\"text-align: right;\">\n",
       "      <th></th>\n",
       "      <th>rowid</th>\n",
       "      <th>species</th>\n",
       "      <th>island</th>\n",
       "      <th>bill_length_mm</th>\n",
       "      <th>bill_depth_mm</th>\n",
       "      <th>flipper_length_mm</th>\n",
       "      <th>body_mass_g</th>\n",
       "      <th>sex</th>\n",
       "      <th>year</th>\n",
       "      <th>wkilo</th>\n",
       "    </tr>\n",
       "  </thead>\n",
       "  <tbody>\n",
       "    <tr>\n",
       "      <th>0</th>\n",
       "      <td>1</td>\n",
       "      <td>Adelie</td>\n",
       "      <td>Torgersen</td>\n",
       "      <td>39.10000</td>\n",
       "      <td>18.70000</td>\n",
       "      <td>181.000000</td>\n",
       "      <td>3750.000000</td>\n",
       "      <td>male</td>\n",
       "      <td>2007</td>\n",
       "      <td>3.8</td>\n",
       "    </tr>\n",
       "    <tr>\n",
       "      <th>1</th>\n",
       "      <td>2</td>\n",
       "      <td>Adelie</td>\n",
       "      <td>Torgersen</td>\n",
       "      <td>39.50000</td>\n",
       "      <td>17.40000</td>\n",
       "      <td>186.000000</td>\n",
       "      <td>3800.000000</td>\n",
       "      <td>female</td>\n",
       "      <td>2007</td>\n",
       "      <td>3.8</td>\n",
       "    </tr>\n",
       "    <tr>\n",
       "      <th>2</th>\n",
       "      <td>3</td>\n",
       "      <td>Adelie</td>\n",
       "      <td>Torgersen</td>\n",
       "      <td>40.30000</td>\n",
       "      <td>18.00000</td>\n",
       "      <td>195.000000</td>\n",
       "      <td>3250.000000</td>\n",
       "      <td>female</td>\n",
       "      <td>2007</td>\n",
       "      <td>3.2</td>\n",
       "    </tr>\n",
       "    <tr>\n",
       "      <th>3</th>\n",
       "      <td>4</td>\n",
       "      <td>Adelie</td>\n",
       "      <td>Torgersen</td>\n",
       "      <td>43.92193</td>\n",
       "      <td>17.15117</td>\n",
       "      <td>200.915205</td>\n",
       "      <td>4201.754386</td>\n",
       "      <td>male</td>\n",
       "      <td>2007</td>\n",
       "      <td>4.2</td>\n",
       "    </tr>\n",
       "    <tr>\n",
       "      <th>4</th>\n",
       "      <td>5</td>\n",
       "      <td>Adelie</td>\n",
       "      <td>Torgersen</td>\n",
       "      <td>36.70000</td>\n",
       "      <td>19.30000</td>\n",
       "      <td>193.000000</td>\n",
       "      <td>3450.000000</td>\n",
       "      <td>female</td>\n",
       "      <td>2007</td>\n",
       "      <td>3.4</td>\n",
       "    </tr>\n",
       "    <tr>\n",
       "      <th>...</th>\n",
       "      <td>...</td>\n",
       "      <td>...</td>\n",
       "      <td>...</td>\n",
       "      <td>...</td>\n",
       "      <td>...</td>\n",
       "      <td>...</td>\n",
       "      <td>...</td>\n",
       "      <td>...</td>\n",
       "      <td>...</td>\n",
       "      <td>...</td>\n",
       "    </tr>\n",
       "    <tr>\n",
       "      <th>339</th>\n",
       "      <td>340</td>\n",
       "      <td>Chinstrap</td>\n",
       "      <td>Dream</td>\n",
       "      <td>55.80000</td>\n",
       "      <td>19.80000</td>\n",
       "      <td>207.000000</td>\n",
       "      <td>4000.000000</td>\n",
       "      <td>male</td>\n",
       "      <td>2009</td>\n",
       "      <td>4.0</td>\n",
       "    </tr>\n",
       "    <tr>\n",
       "      <th>340</th>\n",
       "      <td>341</td>\n",
       "      <td>Chinstrap</td>\n",
       "      <td>Dream</td>\n",
       "      <td>43.50000</td>\n",
       "      <td>18.10000</td>\n",
       "      <td>202.000000</td>\n",
       "      <td>3400.000000</td>\n",
       "      <td>female</td>\n",
       "      <td>2009</td>\n",
       "      <td>3.4</td>\n",
       "    </tr>\n",
       "    <tr>\n",
       "      <th>341</th>\n",
       "      <td>342</td>\n",
       "      <td>Chinstrap</td>\n",
       "      <td>Dream</td>\n",
       "      <td>49.60000</td>\n",
       "      <td>18.20000</td>\n",
       "      <td>193.000000</td>\n",
       "      <td>3775.000000</td>\n",
       "      <td>male</td>\n",
       "      <td>2009</td>\n",
       "      <td>3.8</td>\n",
       "    </tr>\n",
       "    <tr>\n",
       "      <th>342</th>\n",
       "      <td>343</td>\n",
       "      <td>Chinstrap</td>\n",
       "      <td>Dream</td>\n",
       "      <td>50.80000</td>\n",
       "      <td>19.00000</td>\n",
       "      <td>210.000000</td>\n",
       "      <td>4100.000000</td>\n",
       "      <td>male</td>\n",
       "      <td>2009</td>\n",
       "      <td>4.1</td>\n",
       "    </tr>\n",
       "    <tr>\n",
       "      <th>343</th>\n",
       "      <td>344</td>\n",
       "      <td>Chinstrap</td>\n",
       "      <td>Dream</td>\n",
       "      <td>50.20000</td>\n",
       "      <td>18.70000</td>\n",
       "      <td>198.000000</td>\n",
       "      <td>3775.000000</td>\n",
       "      <td>female</td>\n",
       "      <td>2009</td>\n",
       "      <td>3.8</td>\n",
       "    </tr>\n",
       "  </tbody>\n",
       "</table>\n",
       "<p>344 rows × 10 columns</p>\n",
       "</div>"
      ],
      "text/plain": [
       "    rowid    species     island  bill_length_mm  bill_depth_mm  \\\n",
       "0       1     Adelie  Torgersen        39.10000       18.70000   \n",
       "1       2     Adelie  Torgersen        39.50000       17.40000   \n",
       "2       3     Adelie  Torgersen        40.30000       18.00000   \n",
       "3       4     Adelie  Torgersen        43.92193       17.15117   \n",
       "4       5     Adelie  Torgersen        36.70000       19.30000   \n",
       "..    ...        ...        ...             ...            ...   \n",
       "339   340  Chinstrap      Dream        55.80000       19.80000   \n",
       "340   341  Chinstrap      Dream        43.50000       18.10000   \n",
       "341   342  Chinstrap      Dream        49.60000       18.20000   \n",
       "342   343  Chinstrap      Dream        50.80000       19.00000   \n",
       "343   344  Chinstrap      Dream        50.20000       18.70000   \n",
       "\n",
       "     flipper_length_mm  body_mass_g     sex  year  wkilo  \n",
       "0           181.000000  3750.000000    male  2007    3.8  \n",
       "1           186.000000  3800.000000  female  2007    3.8  \n",
       "2           195.000000  3250.000000  female  2007    3.2  \n",
       "3           200.915205  4201.754386    male  2007    4.2  \n",
       "4           193.000000  3450.000000  female  2007    3.4  \n",
       "..                 ...          ...     ...   ...    ...  \n",
       "339         207.000000  4000.000000    male  2009    4.0  \n",
       "340         202.000000  3400.000000  female  2009    3.4  \n",
       "341         193.000000  3775.000000    male  2009    3.8  \n",
       "342         210.000000  4100.000000    male  2009    4.1  \n",
       "343         198.000000  3775.000000  female  2009    3.8  \n",
       "\n",
       "[344 rows x 10 columns]"
      ]
     },
     "execution_count": 112,
     "metadata": {},
     "output_type": "execute_result"
    }
   ],
   "source": [
    "peng"
   ]
  },
  {
   "cell_type": "markdown",
   "id": "b0467ae7-442d-4c6d-97bb-78d44fe6e1c5",
   "metadata": {},
   "source": [
    "<h2> Correlational Analysis Between Qualitative Data and Quantitative Data"
   ]
  },
  {
   "cell_type": "markdown",
   "id": "5a2f25fa-8e50-40bd-b020-679dea11f5ee",
   "metadata": {},
   "source": [
    "<h2> Use of One way Anova"
   ]
  },
  {
   "cell_type": "markdown",
   "id": "87800ab6-7ff0-4ee8-8497-4c0349b11756",
   "metadata": {},
   "source": [
    "<h1> Science Python Librarry -- Known as Scipy"
   ]
  },
  {
   "cell_type": "code",
   "execution_count": 113,
   "id": "e32fd907-9388-4fde-a8a3-27ac3dd3a4cf",
   "metadata": {},
   "outputs": [
    {
     "name": "stdout",
     "output_type": "stream",
     "text": [
      "Defaulting to user installation because normal site-packages is not writeable\n",
      "Collecting scipy\n",
      "  Downloading scipy-1.15.2-cp313-cp313-win_amd64.whl.metadata (60 kB)\n",
      "Requirement already satisfied: numpy<2.5,>=1.23.5 in c:\\users\\lab4-studentpc37\\appdata\\local\\packages\\pythonsoftwarefoundation.python.3.13_qbz5n2kfra8p0\\localcache\\local-packages\\python313\\site-packages (from scipy) (2.2.2)\n",
      "Downloading scipy-1.15.2-cp313-cp313-win_amd64.whl (41.0 MB)\n",
      "   ---------------------------------------- 0.0/41.0 MB ? eta -:--:--\n",
      "   --- ------------------------------------ 3.7/41.0 MB 19.6 MB/s eta 0:00:02\n",
      "   ------ --------------------------------- 6.6/41.0 MB 16.1 MB/s eta 0:00:03\n",
      "   ------- -------------------------------- 7.6/41.0 MB 12.1 MB/s eta 0:00:03\n",
      "   ------- -------------------------------- 8.1/41.0 MB 10.0 MB/s eta 0:00:04\n",
      "   -------- ------------------------------- 8.9/41.0 MB 8.5 MB/s eta 0:00:04\n",
      "   --------- ------------------------------ 10.2/41.0 MB 8.2 MB/s eta 0:00:04\n",
      "   ------------ --------------------------- 12.3/41.0 MB 8.4 MB/s eta 0:00:04\n",
      "   ------------- -------------------------- 13.9/41.0 MB 8.5 MB/s eta 0:00:04\n",
      "   --------------- ------------------------ 15.5/41.0 MB 8.3 MB/s eta 0:00:04\n",
      "   ----------------- ---------------------- 17.6/41.0 MB 8.5 MB/s eta 0:00:03\n",
      "   ------------------- -------------------- 20.4/41.0 MB 9.0 MB/s eta 0:00:03\n",
      "   ----------------------- ---------------- 23.9/41.0 MB 9.6 MB/s eta 0:00:02\n",
      "   ------------------------- -------------- 26.5/41.0 MB 9.8 MB/s eta 0:00:02\n",
      "   ----------------------------- ---------- 30.1/41.0 MB 10.4 MB/s eta 0:00:02\n",
      "   -------------------------------- ------- 33.3/41.0 MB 10.7 MB/s eta 0:00:01\n",
      "   --------------------------------- ------ 34.3/41.0 MB 10.4 MB/s eta 0:00:01\n",
      "   ---------------------------------- ----- 35.4/41.0 MB 10.1 MB/s eta 0:00:01\n",
      "   ----------------------------------- ---- 36.7/41.0 MB 9.9 MB/s eta 0:00:01\n",
      "   -------------------------------------- - 39.1/41.0 MB 9.9 MB/s eta 0:00:01\n",
      "   ---------------------------------------  40.9/41.0 MB 9.9 MB/s eta 0:00:01\n",
      "   ---------------------------------------- 41.0/41.0 MB 9.8 MB/s eta 0:00:00\n",
      "Installing collected packages: scipy\n",
      "Successfully installed scipy-1.15.2\n",
      "Note: you may need to restart the kernel to use updated packages.\n"
     ]
    },
    {
     "name": "stderr",
     "output_type": "stream",
     "text": [
      "\n",
      "[notice] A new release of pip is available: 24.3.1 -> 25.0.1\n",
      "[notice] To update, run: C:\\Users\\LAB4-StudentPC37\\AppData\\Local\\Microsoft\\WindowsApps\\PythonSoftwareFoundation.Python.3.13_qbz5n2kfra8p0\\python.exe -m pip install --upgrade pip\n"
     ]
    }
   ],
   "source": [
    "pip install scipy"
   ]
  },
  {
   "cell_type": "code",
   "execution_count": 114,
   "id": "58e3501f-22e2-494e-93c1-13b6b6d45f01",
   "metadata": {},
   "outputs": [],
   "source": [
    "from scipy.stats import f_oneway"
   ]
  },
  {
   "cell_type": "code",
   "execution_count": 116,
   "id": "333d250b-b07c-416b-a9ca-0402306c7689",
   "metadata": {},
   "outputs": [
    {
     "data": {
      "text/plain": [
       "0      3750.000000\n",
       "3      4201.754386\n",
       "5      3650.000000\n",
       "7      4675.000000\n",
       "8      3475.000000\n",
       "          ...     \n",
       "334    3800.000000\n",
       "336    3950.000000\n",
       "339    4000.000000\n",
       "341    3775.000000\n",
       "342    4100.000000\n",
       "Name: body_mass_g, Length: 179, dtype: float64"
      ]
     },
     "execution_count": 116,
     "metadata": {},
     "output_type": "execute_result"
    }
   ],
   "source": [
    "peng[peng['sex'] == 'male']['body_mass_g']"
   ]
  },
  {
   "cell_type": "code",
   "execution_count": 121,
   "id": "f2a83e3f-9f39-42ce-8020-238de4ead838",
   "metadata": {},
   "outputs": [],
   "source": [
    "f_stats, p_value = f_oneway (peng[peng['sex'] == 'male']['body_mass_g'], \n",
    "                             peng[peng['sex'] == 'female']['body_mass_g'])"
   ]
  },
  {
   "cell_type": "code",
   "execution_count": 122,
   "id": "0319995b-142d-4b9a-91c2-b8692418d356",
   "metadata": {},
   "outputs": [
    {
     "data": {
      "text/plain": [
       "np.float64(3.0226600487050246e-15)"
      ]
     },
     "execution_count": 122,
     "metadata": {},
     "output_type": "execute_result"
    }
   ],
   "source": [
    "p_value"
   ]
  },
  {
   "cell_type": "markdown",
   "id": "bc8d0bfd-10eb-4950-a4d6-4417db11e34a",
   "metadata": {},
   "source": [
    "<h1> Insight No. 15 There is strong correlation between the sex and the body mass."
   ]
  },
  {
   "cell_type": "code",
   "execution_count": 119,
   "id": "0bc0cfd8-5c21-4006-9391-755232e1896c",
   "metadata": {},
   "outputs": [],
   "source": [
    "f_stats, p_value = f_oneway (peng[peng['species'] == 'Adelie']['bill_length_mm'], \n",
    "                             peng[peng['species'] == 'Chinstrap']['bill_length_mm'],\n",
    "                             peng[peng['species'] == 'Gentoo']['bill_length_mm'])"
   ]
  },
  {
   "cell_type": "code",
   "execution_count": 120,
   "id": "4f8d1411-70c2-496f-9f57-666225f38326",
   "metadata": {},
   "outputs": [
    {
     "data": {
      "text/plain": [
       "np.float64(7.233266188149441e-91)"
      ]
     },
     "execution_count": 120,
     "metadata": {},
     "output_type": "execute_result"
    }
   ],
   "source": [
    "p_value"
   ]
  },
  {
   "cell_type": "markdown",
   "id": "984e2041-2b14-4b64-8e06-76316689c0ee",
   "metadata": {},
   "source": [
    "<h1> Insight No. 16 There is strong correlation between the specie and the bill length."
   ]
  },
  {
   "cell_type": "code",
   "execution_count": null,
   "id": "59f361c7-c29f-44b0-bc2b-32f8f58ce818",
   "metadata": {},
   "outputs": [],
   "source": [
    "Does the accidents mostly happen to Rural or Urban areas?\n",
    "In what weather condition accidents mostly happen?\n",
    "What vehicle type has the highest number of casualties?\n",
    "What road type has the highest number of casualties?\n",
    "What weather condition has the highest number of casualties?\n",
    "What weather condition has the highest number of casualties?\n",
    "What road surface has the highest number of casualties?\n",
    "Which district area has the highest number of casualties?\n",
    "Which year has the highest number serious accidents?\n",
    "Which light condition has the highest number of slight accidents?\n",
    "\n",
    "Correlation\n",
    "Number of casualties and surface condition.\n",
    "Accident Severity and life condition.\n",
    "Accident Severity and Vehicle type.\n",
    "Accident Severity and District Area.\n",
    "Light condition and Accident Severity\n",
    "\n",
    "\n"
   ]
  }
 ],
 "metadata": {
  "kernelspec": {
   "display_name": "Python 3 (ipykernel)",
   "language": "python",
   "name": "python3"
  },
  "language_info": {
   "codemirror_mode": {
    "name": "ipython",
    "version": 3
   },
   "file_extension": ".py",
   "mimetype": "text/x-python",
   "name": "python",
   "nbconvert_exporter": "python",
   "pygments_lexer": "ipython3",
   "version": "3.13.2"
  }
 },
 "nbformat": 4,
 "nbformat_minor": 5
}
