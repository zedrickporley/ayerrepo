{
 "cells": [
  {
   "cell_type": "code",
   "execution_count": 75,
   "id": "d2a3e66f-1be0-49bc-a94a-16ee4d7a39f4",
   "metadata": {},
   "outputs": [],
   "source": [
    "import numpy as np\n",
    "import seaborn as sns\n",
    "import matplotlib.pyplot as plt\n",
    "import pandas as pd"
   ]
  },
  {
   "cell_type": "code",
   "execution_count": 2,
   "id": "c8234781-80c5-4f7b-a729-faae9543a02e",
   "metadata": {},
   "outputs": [],
   "source": [
    "from scipy.stats import f_oneway"
   ]
  },
  {
   "cell_type": "code",
   "execution_count": 3,
   "id": "e9227e45-1100-4654-a4df-34dc9264b488",
   "metadata": {},
   "outputs": [],
   "source": [
    "acc = pd.read_csv('Datasets//accident_data.csv')"
   ]
  },
  {
   "cell_type": "code",
   "execution_count": 4,
   "id": "d87fd0d7-3874-4f02-b541-97900b7dbd89",
   "metadata": {},
   "outputs": [
    {
     "data": {
      "text/html": [
       "<div>\n",
       "<style scoped>\n",
       "    .dataframe tbody tr th:only-of-type {\n",
       "        vertical-align: middle;\n",
       "    }\n",
       "\n",
       "    .dataframe tbody tr th {\n",
       "        vertical-align: top;\n",
       "    }\n",
       "\n",
       "    .dataframe thead th {\n",
       "        text-align: right;\n",
       "    }\n",
       "</style>\n",
       "<table border=\"1\" class=\"dataframe\">\n",
       "  <thead>\n",
       "    <tr style=\"text-align: right;\">\n",
       "      <th></th>\n",
       "      <th>Index</th>\n",
       "      <th>Accident_Severity</th>\n",
       "      <th>Accident Date</th>\n",
       "      <th>Latitude</th>\n",
       "      <th>Light_Conditions</th>\n",
       "      <th>District Area</th>\n",
       "      <th>Longitude</th>\n",
       "      <th>Number_of_Casualties</th>\n",
       "      <th>Number_of_Vehicles</th>\n",
       "      <th>Road_Surface_Conditions</th>\n",
       "      <th>Road_Type</th>\n",
       "      <th>Urban_or_Rural_Area</th>\n",
       "      <th>Weather_Conditions</th>\n",
       "      <th>Vehicle_Type</th>\n",
       "    </tr>\n",
       "  </thead>\n",
       "  <tbody>\n",
       "    <tr>\n",
       "      <th>0</th>\n",
       "      <td>200701BS64157</td>\n",
       "      <td>Serious</td>\n",
       "      <td>05/06/2019</td>\n",
       "      <td>51.506187</td>\n",
       "      <td>Darkness - lights lit</td>\n",
       "      <td>Kensington and Chelsea</td>\n",
       "      <td>-0.209082</td>\n",
       "      <td>1</td>\n",
       "      <td>2</td>\n",
       "      <td>Dry</td>\n",
       "      <td>Single carriageway</td>\n",
       "      <td>Urban</td>\n",
       "      <td>Fine no high winds</td>\n",
       "      <td>Car</td>\n",
       "    </tr>\n",
       "    <tr>\n",
       "      <th>1</th>\n",
       "      <td>200701BS65737</td>\n",
       "      <td>Serious</td>\n",
       "      <td>02/07/2019</td>\n",
       "      <td>51.495029</td>\n",
       "      <td>Daylight</td>\n",
       "      <td>Kensington and Chelsea</td>\n",
       "      <td>-0.173647</td>\n",
       "      <td>1</td>\n",
       "      <td>2</td>\n",
       "      <td>Wet or damp</td>\n",
       "      <td>Single carriageway</td>\n",
       "      <td>Urban</td>\n",
       "      <td>Raining no high winds</td>\n",
       "      <td>Car</td>\n",
       "    </tr>\n",
       "    <tr>\n",
       "      <th>2</th>\n",
       "      <td>200701BS66127</td>\n",
       "      <td>Serious</td>\n",
       "      <td>26-08-2019</td>\n",
       "      <td>51.517715</td>\n",
       "      <td>Darkness - lighting unknown</td>\n",
       "      <td>Kensington and Chelsea</td>\n",
       "      <td>-0.210215</td>\n",
       "      <td>1</td>\n",
       "      <td>3</td>\n",
       "      <td>Dry</td>\n",
       "      <td>NaN</td>\n",
       "      <td>Urban</td>\n",
       "      <td>NaN</td>\n",
       "      <td>Taxi/Private hire car</td>\n",
       "    </tr>\n",
       "    <tr>\n",
       "      <th>3</th>\n",
       "      <td>200701BS66128</td>\n",
       "      <td>Serious</td>\n",
       "      <td>16-08-2019</td>\n",
       "      <td>51.495478</td>\n",
       "      <td>Daylight</td>\n",
       "      <td>Kensington and Chelsea</td>\n",
       "      <td>-0.202731</td>\n",
       "      <td>1</td>\n",
       "      <td>4</td>\n",
       "      <td>Dry</td>\n",
       "      <td>Single carriageway</td>\n",
       "      <td>Urban</td>\n",
       "      <td>Fine no high winds</td>\n",
       "      <td>Bus or coach (17 or more pass seats)</td>\n",
       "    </tr>\n",
       "    <tr>\n",
       "      <th>4</th>\n",
       "      <td>200701BS66837</td>\n",
       "      <td>Slight</td>\n",
       "      <td>03/09/2019</td>\n",
       "      <td>51.488576</td>\n",
       "      <td>Darkness - lights lit</td>\n",
       "      <td>Kensington and Chelsea</td>\n",
       "      <td>-0.192487</td>\n",
       "      <td>1</td>\n",
       "      <td>2</td>\n",
       "      <td>Dry</td>\n",
       "      <td>NaN</td>\n",
       "      <td>Urban</td>\n",
       "      <td>NaN</td>\n",
       "      <td>Other vehicle</td>\n",
       "    </tr>\n",
       "    <tr>\n",
       "      <th>...</th>\n",
       "      <td>...</td>\n",
       "      <td>...</td>\n",
       "      <td>...</td>\n",
       "      <td>...</td>\n",
       "      <td>...</td>\n",
       "      <td>...</td>\n",
       "      <td>...</td>\n",
       "      <td>...</td>\n",
       "      <td>...</td>\n",
       "      <td>...</td>\n",
       "      <td>...</td>\n",
       "      <td>...</td>\n",
       "      <td>...</td>\n",
       "      <td>...</td>\n",
       "    </tr>\n",
       "    <tr>\n",
       "      <th>660674</th>\n",
       "      <td>201091NM01760</td>\n",
       "      <td>Slight</td>\n",
       "      <td>18-02-2022</td>\n",
       "      <td>57.374005</td>\n",
       "      <td>Daylight</td>\n",
       "      <td>Highland</td>\n",
       "      <td>-3.467828</td>\n",
       "      <td>2</td>\n",
       "      <td>1</td>\n",
       "      <td>Dry</td>\n",
       "      <td>Single carriageway</td>\n",
       "      <td>Rural</td>\n",
       "      <td>Fine no high winds</td>\n",
       "      <td>Car</td>\n",
       "    </tr>\n",
       "    <tr>\n",
       "      <th>660675</th>\n",
       "      <td>201091NM01881</td>\n",
       "      <td>Slight</td>\n",
       "      <td>21-02-2022</td>\n",
       "      <td>57.232273</td>\n",
       "      <td>Darkness - no lighting</td>\n",
       "      <td>Highland</td>\n",
       "      <td>-3.809281</td>\n",
       "      <td>1</td>\n",
       "      <td>1</td>\n",
       "      <td>Frost or ice</td>\n",
       "      <td>Single carriageway</td>\n",
       "      <td>Rural</td>\n",
       "      <td>Fine no high winds</td>\n",
       "      <td>Car</td>\n",
       "    </tr>\n",
       "    <tr>\n",
       "      <th>660676</th>\n",
       "      <td>201091NM01935</td>\n",
       "      <td>Slight</td>\n",
       "      <td>23-02-2022</td>\n",
       "      <td>57.585044</td>\n",
       "      <td>Daylight</td>\n",
       "      <td>Highland</td>\n",
       "      <td>-3.862727</td>\n",
       "      <td>1</td>\n",
       "      <td>3</td>\n",
       "      <td>Frost or ice</td>\n",
       "      <td>Single carriageway</td>\n",
       "      <td>Rural</td>\n",
       "      <td>Fine no high winds</td>\n",
       "      <td>Car</td>\n",
       "    </tr>\n",
       "    <tr>\n",
       "      <th>660677</th>\n",
       "      <td>201091NM01964</td>\n",
       "      <td>Serious</td>\n",
       "      <td>23-02-2022</td>\n",
       "      <td>57.214898</td>\n",
       "      <td>Darkness - no lighting</td>\n",
       "      <td>Highland</td>\n",
       "      <td>-3.823997</td>\n",
       "      <td>1</td>\n",
       "      <td>2</td>\n",
       "      <td>Wet or damp</td>\n",
       "      <td>Single carriageway</td>\n",
       "      <td>Rural</td>\n",
       "      <td>Fine no high winds</td>\n",
       "      <td>Motorcycle over 500cc</td>\n",
       "    </tr>\n",
       "    <tr>\n",
       "      <th>660678</th>\n",
       "      <td>201091NM02142</td>\n",
       "      <td>Serious</td>\n",
       "      <td>28-02-2022</td>\n",
       "      <td>57.575210</td>\n",
       "      <td>Daylight</td>\n",
       "      <td>Highland</td>\n",
       "      <td>-3.895673</td>\n",
       "      <td>1</td>\n",
       "      <td>1</td>\n",
       "      <td>Wet or damp</td>\n",
       "      <td>Dual carriageway</td>\n",
       "      <td>Rural</td>\n",
       "      <td>Snowing no high winds</td>\n",
       "      <td>Car</td>\n",
       "    </tr>\n",
       "  </tbody>\n",
       "</table>\n",
       "<p>660679 rows × 14 columns</p>\n",
       "</div>"
      ],
      "text/plain": [
       "                Index Accident_Severity Accident Date   Latitude  \\\n",
       "0       200701BS64157           Serious    05/06/2019  51.506187   \n",
       "1       200701BS65737           Serious    02/07/2019  51.495029   \n",
       "2       200701BS66127           Serious    26-08-2019  51.517715   \n",
       "3       200701BS66128           Serious    16-08-2019  51.495478   \n",
       "4       200701BS66837            Slight    03/09/2019  51.488576   \n",
       "...               ...               ...           ...        ...   \n",
       "660674  201091NM01760            Slight    18-02-2022  57.374005   \n",
       "660675  201091NM01881            Slight    21-02-2022  57.232273   \n",
       "660676  201091NM01935            Slight    23-02-2022  57.585044   \n",
       "660677  201091NM01964           Serious    23-02-2022  57.214898   \n",
       "660678  201091NM02142           Serious    28-02-2022  57.575210   \n",
       "\n",
       "                   Light_Conditions           District Area  Longitude  \\\n",
       "0             Darkness - lights lit  Kensington and Chelsea  -0.209082   \n",
       "1                          Daylight  Kensington and Chelsea  -0.173647   \n",
       "2       Darkness - lighting unknown  Kensington and Chelsea  -0.210215   \n",
       "3                          Daylight  Kensington and Chelsea  -0.202731   \n",
       "4             Darkness - lights lit  Kensington and Chelsea  -0.192487   \n",
       "...                             ...                     ...        ...   \n",
       "660674                     Daylight                Highland  -3.467828   \n",
       "660675       Darkness - no lighting                Highland  -3.809281   \n",
       "660676                     Daylight                Highland  -3.862727   \n",
       "660677       Darkness - no lighting                Highland  -3.823997   \n",
       "660678                     Daylight                Highland  -3.895673   \n",
       "\n",
       "        Number_of_Casualties  Number_of_Vehicles Road_Surface_Conditions  \\\n",
       "0                          1                   2                     Dry   \n",
       "1                          1                   2             Wet or damp   \n",
       "2                          1                   3                     Dry   \n",
       "3                          1                   4                     Dry   \n",
       "4                          1                   2                     Dry   \n",
       "...                      ...                 ...                     ...   \n",
       "660674                     2                   1                     Dry   \n",
       "660675                     1                   1            Frost or ice   \n",
       "660676                     1                   3            Frost or ice   \n",
       "660677                     1                   2             Wet or damp   \n",
       "660678                     1                   1             Wet or damp   \n",
       "\n",
       "                 Road_Type Urban_or_Rural_Area     Weather_Conditions  \\\n",
       "0       Single carriageway               Urban     Fine no high winds   \n",
       "1       Single carriageway               Urban  Raining no high winds   \n",
       "2                      NaN               Urban                    NaN   \n",
       "3       Single carriageway               Urban     Fine no high winds   \n",
       "4                      NaN               Urban                    NaN   \n",
       "...                    ...                 ...                    ...   \n",
       "660674  Single carriageway               Rural     Fine no high winds   \n",
       "660675  Single carriageway               Rural     Fine no high winds   \n",
       "660676  Single carriageway               Rural     Fine no high winds   \n",
       "660677  Single carriageway               Rural     Fine no high winds   \n",
       "660678    Dual carriageway               Rural  Snowing no high winds   \n",
       "\n",
       "                                Vehicle_Type  \n",
       "0                                        Car  \n",
       "1                                        Car  \n",
       "2                      Taxi/Private hire car  \n",
       "3       Bus or coach (17 or more pass seats)  \n",
       "4                              Other vehicle  \n",
       "...                                      ...  \n",
       "660674                                   Car  \n",
       "660675                                   Car  \n",
       "660676                                   Car  \n",
       "660677                 Motorcycle over 500cc  \n",
       "660678                                   Car  \n",
       "\n",
       "[660679 rows x 14 columns]"
      ]
     },
     "execution_count": 4,
     "metadata": {},
     "output_type": "execute_result"
    }
   ],
   "source": [
    "acc"
   ]
  },
  {
   "cell_type": "code",
   "execution_count": 5,
   "id": "723578fb-caa8-41a0-ad3a-0b51b24f7a8f",
   "metadata": {},
   "outputs": [
    {
     "data": {
      "text/html": [
       "<div>\n",
       "<style scoped>\n",
       "    .dataframe tbody tr th:only-of-type {\n",
       "        vertical-align: middle;\n",
       "    }\n",
       "\n",
       "    .dataframe tbody tr th {\n",
       "        vertical-align: top;\n",
       "    }\n",
       "\n",
       "    .dataframe thead th {\n",
       "        text-align: right;\n",
       "    }\n",
       "</style>\n",
       "<table border=\"1\" class=\"dataframe\">\n",
       "  <thead>\n",
       "    <tr style=\"text-align: right;\">\n",
       "      <th></th>\n",
       "      <th>Latitude</th>\n",
       "      <th>Longitude</th>\n",
       "      <th>Number_of_Casualties</th>\n",
       "      <th>Number_of_Vehicles</th>\n",
       "    </tr>\n",
       "  </thead>\n",
       "  <tbody>\n",
       "    <tr>\n",
       "      <th>count</th>\n",
       "      <td>660654.000000</td>\n",
       "      <td>660653.000000</td>\n",
       "      <td>660679.000000</td>\n",
       "      <td>660679.000000</td>\n",
       "    </tr>\n",
       "    <tr>\n",
       "      <th>mean</th>\n",
       "      <td>52.553866</td>\n",
       "      <td>-1.431210</td>\n",
       "      <td>1.357040</td>\n",
       "      <td>1.831255</td>\n",
       "    </tr>\n",
       "    <tr>\n",
       "      <th>std</th>\n",
       "      <td>1.406922</td>\n",
       "      <td>1.383330</td>\n",
       "      <td>0.824847</td>\n",
       "      <td>0.715269</td>\n",
       "    </tr>\n",
       "    <tr>\n",
       "      <th>min</th>\n",
       "      <td>49.914430</td>\n",
       "      <td>-7.516225</td>\n",
       "      <td>1.000000</td>\n",
       "      <td>1.000000</td>\n",
       "    </tr>\n",
       "    <tr>\n",
       "      <th>25%</th>\n",
       "      <td>51.490690</td>\n",
       "      <td>-2.332291</td>\n",
       "      <td>1.000000</td>\n",
       "      <td>1.000000</td>\n",
       "    </tr>\n",
       "    <tr>\n",
       "      <th>50%</th>\n",
       "      <td>52.315641</td>\n",
       "      <td>-1.411667</td>\n",
       "      <td>1.000000</td>\n",
       "      <td>2.000000</td>\n",
       "    </tr>\n",
       "    <tr>\n",
       "      <th>75%</th>\n",
       "      <td>53.453452</td>\n",
       "      <td>-0.232869</td>\n",
       "      <td>1.000000</td>\n",
       "      <td>2.000000</td>\n",
       "    </tr>\n",
       "    <tr>\n",
       "      <th>max</th>\n",
       "      <td>60.757544</td>\n",
       "      <td>1.762010</td>\n",
       "      <td>68.000000</td>\n",
       "      <td>32.000000</td>\n",
       "    </tr>\n",
       "  </tbody>\n",
       "</table>\n",
       "</div>"
      ],
      "text/plain": [
       "            Latitude      Longitude  Number_of_Casualties  Number_of_Vehicles\n",
       "count  660654.000000  660653.000000         660679.000000       660679.000000\n",
       "mean       52.553866      -1.431210              1.357040            1.831255\n",
       "std         1.406922       1.383330              0.824847            0.715269\n",
       "min        49.914430      -7.516225              1.000000            1.000000\n",
       "25%        51.490690      -2.332291              1.000000            1.000000\n",
       "50%        52.315641      -1.411667              1.000000            2.000000\n",
       "75%        53.453452      -0.232869              1.000000            2.000000\n",
       "max        60.757544       1.762010             68.000000           32.000000"
      ]
     },
     "execution_count": 5,
     "metadata": {},
     "output_type": "execute_result"
    }
   ],
   "source": [
    "acc.describe()"
   ]
  },
  {
   "cell_type": "code",
   "execution_count": 6,
   "id": "4d585973-d656-4cb4-a299-e78ec45da616",
   "metadata": {},
   "outputs": [
    {
     "data": {
      "text/plain": [
       "Index                          0\n",
       "Accident_Severity              0\n",
       "Accident Date                  0\n",
       "Latitude                      25\n",
       "Light_Conditions               0\n",
       "District Area                  0\n",
       "Longitude                     26\n",
       "Number_of_Casualties           0\n",
       "Number_of_Vehicles             0\n",
       "Road_Surface_Conditions      726\n",
       "Road_Type                   4520\n",
       "Urban_or_Rural_Area           15\n",
       "Weather_Conditions         14128\n",
       "Vehicle_Type                   0\n",
       "dtype: int64"
      ]
     },
     "execution_count": 6,
     "metadata": {},
     "output_type": "execute_result"
    }
   ],
   "source": [
    "acc.isnull().sum()"
   ]
  },
  {
   "cell_type": "code",
   "execution_count": 7,
   "id": "9addc525-d0fe-48d5-b6aa-44087ecb8a2b",
   "metadata": {},
   "outputs": [],
   "source": [
    "acc['Latitude'] = acc['Latitude'].fillna(acc['Latitude'].mode()[0])"
   ]
  },
  {
   "cell_type": "code",
   "execution_count": 8,
   "id": "ea627b7a-59f3-4ca0-ae27-5b9ecbd8229f",
   "metadata": {},
   "outputs": [],
   "source": [
    "acc['Longitude'] = acc['Longitude'].fillna(acc['Longitude'].mode()[0])"
   ]
  },
  {
   "cell_type": "code",
   "execution_count": 9,
   "id": "a0a5c2f8-bb7e-45f3-b609-dcad4ebbccfe",
   "metadata": {},
   "outputs": [],
   "source": [
    "acc['Road_Surface_Conditions'] = acc['Road_Surface_Conditions'].fillna(acc['Road_Surface_Conditions'].mode()[0])"
   ]
  },
  {
   "cell_type": "code",
   "execution_count": 10,
   "id": "e3e0adfe-e331-43e7-9273-50c8c426315f",
   "metadata": {},
   "outputs": [],
   "source": [
    "acc['Urban_or_Rural_Area'] = acc['Urban_or_Rural_Area'].fillna(acc['Urban_or_Rural_Area'].mode()[0])"
   ]
  },
  {
   "cell_type": "code",
   "execution_count": 11,
   "id": "cf3641b4-93c1-4cb4-af70-41957b913aa0",
   "metadata": {},
   "outputs": [],
   "source": [
    "acc['Accident Date'] = acc['Accident Date'].fillna(acc['Accident Date'].mode()[0])"
   ]
  },
  {
   "cell_type": "code",
   "execution_count": 12,
   "id": "dd230676-b84d-4b17-9e3f-cd25ddb1aacd",
   "metadata": {},
   "outputs": [
    {
     "data": {
      "text/plain": [
       "Index                          0\n",
       "Accident_Severity              0\n",
       "Accident Date                  0\n",
       "Latitude                       0\n",
       "Light_Conditions               0\n",
       "District Area                  0\n",
       "Longitude                      0\n",
       "Number_of_Casualties           0\n",
       "Number_of_Vehicles             0\n",
       "Road_Surface_Conditions        0\n",
       "Road_Type                   4520\n",
       "Urban_or_Rural_Area            0\n",
       "Weather_Conditions         14128\n",
       "Vehicle_Type                   0\n",
       "dtype: int64"
      ]
     },
     "execution_count": 12,
     "metadata": {},
     "output_type": "execute_result"
    }
   ],
   "source": [
    "acc.isnull().sum()"
   ]
  },
  {
   "cell_type": "code",
   "execution_count": 13,
   "id": "83c07ace-7f3d-4790-879a-1a7a3263ce16",
   "metadata": {},
   "outputs": [],
   "source": [
    "acc['Accident Date'] = pd.to_datetime(acc['Accident Date'], dayfirst = True, errors = 'coerce')"
   ]
  },
  {
   "cell_type": "code",
   "execution_count": 14,
   "id": "8173edb6-d4cc-4a83-b3c1-f3a0b7f11a4c",
   "metadata": {},
   "outputs": [
    {
     "data": {
      "text/plain": [
       "Index                              object\n",
       "Accident_Severity                  object\n",
       "Accident Date              datetime64[ns]\n",
       "Latitude                          float64\n",
       "Light_Conditions                   object\n",
       "District Area                      object\n",
       "Longitude                         float64\n",
       "Number_of_Casualties                int64\n",
       "Number_of_Vehicles                  int64\n",
       "Road_Surface_Conditions            object\n",
       "Road_Type                          object\n",
       "Urban_or_Rural_Area                object\n",
       "Weather_Conditions                 object\n",
       "Vehicle_Type                       object\n",
       "dtype: object"
      ]
     },
     "execution_count": 14,
     "metadata": {},
     "output_type": "execute_result"
    }
   ],
   "source": [
    "acc.dtypes"
   ]
  },
  {
   "cell_type": "code",
   "execution_count": 15,
   "id": "abde1a97-3d9e-4b6d-8ce3-938df28411ca",
   "metadata": {},
   "outputs": [],
   "source": [
    "acc['Index'] =acc['Index'].astype('category')"
   ]
  },
  {
   "cell_type": "code",
   "execution_count": 16,
   "id": "a623606d-bc2f-4d66-a5b2-26176333de58",
   "metadata": {},
   "outputs": [],
   "source": [
    "acc['Accident_Severity'] =acc['Accident_Severity'].astype('category')"
   ]
  },
  {
   "cell_type": "code",
   "execution_count": 17,
   "id": "35193926-5fdc-4f8a-9462-1bedc11f3900",
   "metadata": {},
   "outputs": [],
   "source": [
    "acc['Light_Conditions'] =acc['Light_Conditions'].astype('category')"
   ]
  },
  {
   "cell_type": "code",
   "execution_count": 18,
   "id": "ef6b9888-75d8-4824-9b40-0116a9896ea8",
   "metadata": {},
   "outputs": [],
   "source": [
    "acc['District Area'] =acc['District Area'].astype('category')"
   ]
  },
  {
   "cell_type": "code",
   "execution_count": 19,
   "id": "c67adcb5-5691-44d0-a209-c631747f2262",
   "metadata": {},
   "outputs": [],
   "source": [
    "acc['Road_Surface_Conditions'] =acc['Road_Surface_Conditions'].astype('category')"
   ]
  },
  {
   "cell_type": "code",
   "execution_count": 20,
   "id": "76d756ce-4aa3-4837-9927-b87bcea58918",
   "metadata": {},
   "outputs": [],
   "source": [
    "acc['Road_Type'] =acc['Road_Type'].astype('category')"
   ]
  },
  {
   "cell_type": "code",
   "execution_count": 21,
   "id": "3c8e58ca-2bb0-497e-b5c0-a24c3918e864",
   "metadata": {},
   "outputs": [],
   "source": [
    "acc['Light_Conditions'] =acc['Light_Conditions'].astype('category')"
   ]
  },
  {
   "cell_type": "code",
   "execution_count": 22,
   "id": "53c21230-38f3-4557-974e-81d9d0ae92d6",
   "metadata": {},
   "outputs": [],
   "source": [
    "acc['Weather_Conditions'] =acc['Weather_Conditions'].astype('category')"
   ]
  },
  {
   "cell_type": "code",
   "execution_count": 23,
   "id": "d9f1f547-ab4d-491a-aa29-3e77e631054d",
   "metadata": {},
   "outputs": [],
   "source": [
    "acc['Vehicle_Type'] =acc['Vehicle_Type'].astype('category')"
   ]
  },
  {
   "cell_type": "code",
   "execution_count": 24,
   "id": "ae84eaee-d798-43a9-99c4-4d1cb271ef91",
   "metadata": {},
   "outputs": [],
   "source": [
    "acc['Urban_or_Rural_Area'] =acc['Urban_or_Rural_Area'].astype('category')"
   ]
  },
  {
   "cell_type": "code",
   "execution_count": 25,
   "id": "ac349b5b-7fc3-4f82-9713-15a3528d72a5",
   "metadata": {},
   "outputs": [],
   "source": [
    "acc['Accident_Severity'] =acc['Accident_Severity'].astype('category')"
   ]
  },
  {
   "cell_type": "code",
   "execution_count": 26,
   "id": "716e7313-9383-443f-b232-9d3d045c3fcd",
   "metadata": {},
   "outputs": [],
   "source": [
    "acc['Accident_Severity'] =acc['Accident_Severity'].astype('category')"
   ]
  },
  {
   "cell_type": "code",
   "execution_count": 27,
   "id": "56a670ca-bfc7-4edb-9df7-4195e4fc8d23",
   "metadata": {},
   "outputs": [
    {
     "data": {
      "text/plain": [
       "Index                            category\n",
       "Accident_Severity                category\n",
       "Accident Date              datetime64[ns]\n",
       "Latitude                          float64\n",
       "Light_Conditions                 category\n",
       "District Area                    category\n",
       "Longitude                         float64\n",
       "Number_of_Casualties                int64\n",
       "Number_of_Vehicles                  int64\n",
       "Road_Surface_Conditions          category\n",
       "Road_Type                        category\n",
       "Urban_or_Rural_Area              category\n",
       "Weather_Conditions               category\n",
       "Vehicle_Type                     category\n",
       "dtype: object"
      ]
     },
     "execution_count": 27,
     "metadata": {},
     "output_type": "execute_result"
    }
   ],
   "source": [
    "acc.dtypes"
   ]
  },
  {
   "cell_type": "code",
   "execution_count": 28,
   "id": "79b19a7f-b89e-47e1-b66a-72f031a24b6d",
   "metadata": {},
   "outputs": [
    {
     "data": {
      "text/plain": [
       "Accident_Severity\n",
       "Slight     563801\n",
       "Serious     88217\n",
       "Fatal        8661\n",
       "Name: count, dtype: int64"
      ]
     },
     "execution_count": 28,
     "metadata": {},
     "output_type": "execute_result"
    }
   ],
   "source": [
    "acc['Accident_Severity'].value_counts()"
   ]
  },
  {
   "cell_type": "code",
   "execution_count": 29,
   "id": "a3836fb2-88a7-4721-a60c-0c7eb247d011",
   "metadata": {},
   "outputs": [],
   "source": [
    "acc['Year'] = acc['Accident Date'].dt.year"
   ]
  },
  {
   "cell_type": "code",
   "execution_count": 30,
   "id": "3f57b9c9-42cc-4c9d-8ded-8938d11fa002",
   "metadata": {},
   "outputs": [],
   "source": [
    "acc['Month'] = acc['Accident Date'].dt.month"
   ]
  },
  {
   "cell_type": "code",
   "execution_count": 31,
   "id": "33f3dafd-ab5c-4636-bfbb-1af0da746a55",
   "metadata": {},
   "outputs": [],
   "source": [
    "acc['DayOfWeek'] = acc['Accident Date'].dt.day_name()"
   ]
  },
  {
   "cell_type": "code",
   "execution_count": 32,
   "id": "8b61c0ef",
   "metadata": {},
   "outputs": [],
   "source": [
    "acc['Hour'] = acc['Accident Date'].dt.hour"
   ]
  },
  {
   "cell_type": "code",
   "execution_count": 33,
   "id": "b995895a",
   "metadata": {},
   "outputs": [],
   "source": [
    "acc['IsWeekend'] = acc['DayOfWeek'].isin(['Saturday', 'Sunday'])"
   ]
  },
  {
   "cell_type": "code",
   "execution_count": 34,
   "id": "35e0e010",
   "metadata": {},
   "outputs": [],
   "source": [
    "acc_2019 = acc[acc['Year'] == 2019]"
   ]
  },
  {
   "cell_type": "code",
   "execution_count": 38,
   "id": "a2f4e046",
   "metadata": {},
   "outputs": [],
   "source": [
    "accidents_2019 = len(acc_2019)"
   ]
  },
  {
   "cell_type": "code",
   "execution_count": 40,
   "id": "374bd456",
   "metadata": {},
   "outputs": [
    {
     "data": {
      "text/plain": [
       "71867"
      ]
     },
     "execution_count": 40,
     "metadata": {},
     "output_type": "execute_result"
    }
   ],
   "source": [
    "accidents_2019"
   ]
  },
  {
   "cell_type": "markdown",
   "id": "6454cf97",
   "metadata": {},
   "source": [
    "<h1> No. 1\n",
    "    The total number of accidents in 2019 was 71867, highlighting the need for stricter road safety measures."
   ]
  },
  {
   "cell_type": "code",
   "execution_count": 42,
   "id": "0ee04a12",
   "metadata": {},
   "outputs": [],
   "source": [
    "casualties_per_road_2019 = acc_2019['Road_Type'].value_counts()"
   ]
  },
  {
   "cell_type": "code",
   "execution_count": 39,
   "id": "591b602d",
   "metadata": {},
   "outputs": [
    {
     "data": {
      "text/plain": [
       "Road_Type\n",
       "Single carriageway    53310\n",
       "Dual carriageway      11022\n",
       "Roundabout             4603\n",
       "One way street         1550\n",
       "Slip road               775\n",
       "Name: count, dtype: int64"
      ]
     },
     "execution_count": 39,
     "metadata": {},
     "output_type": "execute_result"
    }
   ],
   "source": [
    "casualties_per_road_2019"
   ]
  },
  {
   "cell_type": "markdown",
   "id": "63b70c5c",
   "metadata": {},
   "source": [
    "<h1> No. 2 October had the highest number of accidents in 2019, making it a critical month for traffic enforcement."
   ]
  },
  {
   "cell_type": "code",
   "execution_count": 44,
   "id": "b2a1f5c3",
   "metadata": {},
   "outputs": [],
   "source": [
    "correlation_2019 = acc_2019.corr(numeric_only=True)"
   ]
  },
  {
   "cell_type": "code",
   "execution_count": 45,
   "id": "558f470f",
   "metadata": {},
   "outputs": [
    {
     "data": {
      "text/html": [
       "<div>\n",
       "<style scoped>\n",
       "    .dataframe tbody tr th:only-of-type {\n",
       "        vertical-align: middle;\n",
       "    }\n",
       "\n",
       "    .dataframe tbody tr th {\n",
       "        vertical-align: top;\n",
       "    }\n",
       "\n",
       "    .dataframe thead th {\n",
       "        text-align: right;\n",
       "    }\n",
       "</style>\n",
       "<table border=\"1\" class=\"dataframe\">\n",
       "  <thead>\n",
       "    <tr style=\"text-align: right;\">\n",
       "      <th></th>\n",
       "      <th>Latitude</th>\n",
       "      <th>Longitude</th>\n",
       "      <th>Number_of_Casualties</th>\n",
       "      <th>Number_of_Vehicles</th>\n",
       "      <th>Year</th>\n",
       "      <th>Month</th>\n",
       "      <th>Hour</th>\n",
       "      <th>IsWeekend</th>\n",
       "    </tr>\n",
       "  </thead>\n",
       "  <tbody>\n",
       "    <tr>\n",
       "      <th>Latitude</th>\n",
       "      <td>1.000000</td>\n",
       "      <td>-0.413549</td>\n",
       "      <td>0.029479</td>\n",
       "      <td>-0.046479</td>\n",
       "      <td>NaN</td>\n",
       "      <td>-0.004787</td>\n",
       "      <td>NaN</td>\n",
       "      <td>-0.000271</td>\n",
       "    </tr>\n",
       "    <tr>\n",
       "      <th>Longitude</th>\n",
       "      <td>-0.413549</td>\n",
       "      <td>1.000000</td>\n",
       "      <td>-0.032122</td>\n",
       "      <td>0.023018</td>\n",
       "      <td>NaN</td>\n",
       "      <td>0.001750</td>\n",
       "      <td>NaN</td>\n",
       "      <td>-0.005459</td>\n",
       "    </tr>\n",
       "    <tr>\n",
       "      <th>Number_of_Casualties</th>\n",
       "      <td>0.029479</td>\n",
       "      <td>-0.032122</td>\n",
       "      <td>1.000000</td>\n",
       "      <td>0.214398</td>\n",
       "      <td>NaN</td>\n",
       "      <td>-0.007117</td>\n",
       "      <td>NaN</td>\n",
       "      <td>0.018774</td>\n",
       "    </tr>\n",
       "    <tr>\n",
       "      <th>Number_of_Vehicles</th>\n",
       "      <td>-0.046479</td>\n",
       "      <td>0.023018</td>\n",
       "      <td>0.214398</td>\n",
       "      <td>1.000000</td>\n",
       "      <td>NaN</td>\n",
       "      <td>0.000425</td>\n",
       "      <td>NaN</td>\n",
       "      <td>-0.014532</td>\n",
       "    </tr>\n",
       "    <tr>\n",
       "      <th>Year</th>\n",
       "      <td>NaN</td>\n",
       "      <td>NaN</td>\n",
       "      <td>NaN</td>\n",
       "      <td>NaN</td>\n",
       "      <td>NaN</td>\n",
       "      <td>NaN</td>\n",
       "      <td>NaN</td>\n",
       "      <td>NaN</td>\n",
       "    </tr>\n",
       "    <tr>\n",
       "      <th>Month</th>\n",
       "      <td>-0.004787</td>\n",
       "      <td>0.001750</td>\n",
       "      <td>-0.007117</td>\n",
       "      <td>0.000425</td>\n",
       "      <td>NaN</td>\n",
       "      <td>1.000000</td>\n",
       "      <td>NaN</td>\n",
       "      <td>-0.017494</td>\n",
       "    </tr>\n",
       "    <tr>\n",
       "      <th>Hour</th>\n",
       "      <td>NaN</td>\n",
       "      <td>NaN</td>\n",
       "      <td>NaN</td>\n",
       "      <td>NaN</td>\n",
       "      <td>NaN</td>\n",
       "      <td>NaN</td>\n",
       "      <td>NaN</td>\n",
       "      <td>NaN</td>\n",
       "    </tr>\n",
       "    <tr>\n",
       "      <th>IsWeekend</th>\n",
       "      <td>-0.000271</td>\n",
       "      <td>-0.005459</td>\n",
       "      <td>0.018774</td>\n",
       "      <td>-0.014532</td>\n",
       "      <td>NaN</td>\n",
       "      <td>-0.017494</td>\n",
       "      <td>NaN</td>\n",
       "      <td>1.000000</td>\n",
       "    </tr>\n",
       "  </tbody>\n",
       "</table>\n",
       "</div>"
      ],
      "text/plain": [
       "                      Latitude  Longitude  Number_of_Casualties  \\\n",
       "Latitude              1.000000  -0.413549              0.029479   \n",
       "Longitude            -0.413549   1.000000             -0.032122   \n",
       "Number_of_Casualties  0.029479  -0.032122              1.000000   \n",
       "Number_of_Vehicles   -0.046479   0.023018              0.214398   \n",
       "Year                       NaN        NaN                   NaN   \n",
       "Month                -0.004787   0.001750             -0.007117   \n",
       "Hour                       NaN        NaN                   NaN   \n",
       "IsWeekend            -0.000271  -0.005459              0.018774   \n",
       "\n",
       "                      Number_of_Vehicles  Year     Month  Hour  IsWeekend  \n",
       "Latitude                       -0.046479   NaN -0.004787   NaN  -0.000271  \n",
       "Longitude                       0.023018   NaN  0.001750   NaN  -0.005459  \n",
       "Number_of_Casualties            0.214398   NaN -0.007117   NaN   0.018774  \n",
       "Number_of_Vehicles              1.000000   NaN  0.000425   NaN  -0.014532  \n",
       "Year                                 NaN   NaN       NaN   NaN        NaN  \n",
       "Month                           0.000425   NaN  1.000000   NaN  -0.017494  \n",
       "Hour                                 NaN   NaN       NaN   NaN        NaN  \n",
       "IsWeekend                      -0.014532   NaN -0.017494   NaN   1.000000  "
      ]
     },
     "execution_count": 45,
     "metadata": {},
     "output_type": "execute_result"
    }
   ],
   "source": [
    "correlation_2019"
   ]
  },
  {
   "cell_type": "markdown",
   "id": "c33b209a",
   "metadata": {},
   "source": [
    "<h1> No. 3 December had the highest average accident severity in 2019, suggesting that factors like holiday rush and weather conditions may play a role."
   ]
  },
  {
   "cell_type": "code",
   "execution_count": 46,
   "id": "a0986ac8",
   "metadata": {},
   "outputs": [],
   "source": [
    "accidents_per_district_2019 = acc_2019['District Area'].value_counts()"
   ]
  },
  {
   "cell_type": "code",
   "execution_count": 47,
   "id": "d5f0b228",
   "metadata": {},
   "outputs": [
    {
     "data": {
      "text/plain": [
       "District Area\n",
       "Birmingham       1554\n",
       "Leeds             950\n",
       "Glasgow City      721\n",
       "Manchester        684\n",
       "Liverpool         628\n",
       "                 ... \n",
       "Cornwall            0\n",
       "Wiltshire           0\n",
       "County Durham       0\n",
       "Shropshire          0\n",
       "Cheshire East       0\n",
       "Name: count, Length: 422, dtype: int64"
      ]
     },
     "execution_count": 47,
     "metadata": {},
     "output_type": "execute_result"
    }
   ],
   "source": [
    "accidents_per_district_2019"
   ]
  },
  {
   "cell_type": "markdown",
   "id": "98272fd6",
   "metadata": {},
   "source": [
    "<h1> No. 4 The district with the highest number of accidents in 2019 was Westminster, making it a high-risk area for traffic incidents."
   ]
  },
  {
   "cell_type": "code",
   "execution_count": 51,
   "id": "8776d12d",
   "metadata": {},
   "outputs": [],
   "source": [
    "accidents_urban_rural_2019 = acc_2019['Urban_or_Rural_Area'].value_counts()"
   ]
  },
  {
   "cell_type": "code",
   "execution_count": 52,
   "id": "5e1689c5",
   "metadata": {},
   "outputs": [
    {
     "data": {
      "text/plain": [
       "Urban_or_Rural_Area\n",
       "Urban          45254\n",
       "Rural          26611\n",
       "Unallocated        2\n",
       "Name: count, dtype: int64"
      ]
     },
     "execution_count": 52,
     "metadata": {},
     "output_type": "execute_result"
    }
   ],
   "source": [
    "accidents_urban_rural_2019"
   ]
  },
  {
   "cell_type": "markdown",
   "id": "69731f36",
   "metadata": {},
   "source": [
    "<h1> No.5 Urban areas had significantly higher accident rates than rural areas, emphasizing the need for stronger urban traffic management."
   ]
  },
  {
   "cell_type": "code",
   "execution_count": 54,
   "id": "88356d67",
   "metadata": {},
   "outputs": [],
   "source": [
    "accidents_per_month_2019 = acc_2019['Month'].value_counts()"
   ]
  },
  {
   "cell_type": "code",
   "execution_count": 55,
   "id": "cc0fb6ff",
   "metadata": {},
   "outputs": [
    {
     "data": {
      "text/plain": [
       "Month\n",
       "12.0    6696\n",
       "5.0     6265\n",
       "11.0    6241\n",
       "10.0    6229\n",
       "2.0     6173\n",
       "7.0     6080\n",
       "8.0     5995\n",
       "9.0     5949\n",
       "3.0     5903\n",
       "6.0     5840\n",
       "1.0     5318\n",
       "4.0     5178\n",
       "Name: count, dtype: int64"
      ]
     },
     "execution_count": 55,
     "metadata": {},
     "output_type": "execute_result"
    }
   ],
   "source": [
    "accidents_per_month_2019"
   ]
  },
  {
   "cell_type": "markdown",
   "id": "1464ec49",
   "metadata": {},
   "source": [
    "<h1> No. 6 October had the highest number of accidents in 2019, making it a critical month for traffic enforcement."
   ]
  },
  {
   "cell_type": "code",
   "execution_count": 56,
   "id": "e5e960c7",
   "metadata": {},
   "outputs": [],
   "source": [
    "accidents_light_conditions_2019 = acc_2019['Light_Conditions'].value_counts()"
   ]
  },
  {
   "cell_type": "code",
   "execution_count": 57,
   "id": "04fb5065",
   "metadata": {},
   "outputs": [
    {
     "data": {
      "text/plain": [
       "Light_Conditions\n",
       "Daylight                       52518\n",
       "Darkness - lights lit          14124\n",
       "Darkness - no lighting          4242\n",
       "Darkness - lighting unknown      719\n",
       "Darkness - lights unlit          264\n",
       "Name: count, dtype: int64"
      ]
     },
     "execution_count": 57,
     "metadata": {},
     "output_type": "execute_result"
    }
   ],
   "source": [
    "accidents_light_conditions_2019"
   ]
  },
  {
   "cell_type": "markdown",
   "id": "0e354bf3",
   "metadata": {},
   "source": [
    "<h1> No. 7 Darkness with streetlights on was the most common light condition during accidents, indicating that artificial lighting alone does not prevent crashes."
   ]
  },
  {
   "cell_type": "code",
   "execution_count": 60,
   "id": "88b190e4",
   "metadata": {},
   "outputs": [],
   "source": [
    "monthly_trend_2019 = acc_2019.groupby('Month').size()"
   ]
  },
  {
   "cell_type": "code",
   "execution_count": 61,
   "id": "8facc940",
   "metadata": {},
   "outputs": [
    {
     "data": {
      "text/plain": [
       "Month\n",
       "1.0     5318\n",
       "2.0     6173\n",
       "3.0     5903\n",
       "4.0     5178\n",
       "5.0     6265\n",
       "6.0     5840\n",
       "7.0     6080\n",
       "8.0     5995\n",
       "9.0     5949\n",
       "10.0    6229\n",
       "11.0    6241\n",
       "12.0    6696\n",
       "dtype: int64"
      ]
     },
     "execution_count": 61,
     "metadata": {},
     "output_type": "execute_result"
    }
   ],
   "source": [
    "monthly_trend_2019"
   ]
  },
  {
   "cell_type": "markdown",
   "id": "8f492a11",
   "metadata": {},
   "source": [
    "<h1> No. 8 December had the highest average accident severity in 2019, suggesting that factors like holiday rush and weather conditions may play a role."
   ]
  },
  {
   "cell_type": "code",
   "execution_count": null,
   "id": "ee01f70a",
   "metadata": {},
   "outputs": [],
   "source": [
    "accidents_per_day_2019 = acc_2019['DayOfWeek'].value_counts()"
   ]
  },
  {
   "cell_type": "code",
   "execution_count": 63,
   "id": "84490531",
   "metadata": {},
   "outputs": [
    {
     "data": {
      "text/plain": [
       "DayOfWeek\n",
       "Saturday     11309\n",
       "Friday       11013\n",
       "Tuesday      10948\n",
       "Thursday     10565\n",
       "Wednesday    10217\n",
       "Sunday        9552\n",
       "Monday        8263\n",
       "Name: count, dtype: int64"
      ]
     },
     "execution_count": 63,
     "metadata": {},
     "output_type": "execute_result"
    }
   ],
   "source": [
    "accidents_per_day_2019"
   ]
  },
  {
   "cell_type": "markdown",
   "id": "2600439b",
   "metadata": {},
   "source": [
    "<h1> No.9 Saturday showed the highest accident rate."
   ]
  },
  {
   "cell_type": "code",
   "execution_count": 64,
   "id": "b33524d6",
   "metadata": {},
   "outputs": [],
   "source": [
    "accidents_per_hour_2019 = acc_2019['Hour'].value_counts()"
   ]
  },
  {
   "cell_type": "code",
   "execution_count": 65,
   "id": "a8ca9c5d",
   "metadata": {},
   "outputs": [
    {
     "data": {
      "text/plain": [
       "Hour\n",
       "0.0    71867\n",
       "Name: count, dtype: int64"
      ]
     },
     "execution_count": 65,
     "metadata": {},
     "output_type": "execute_result"
    }
   ],
   "source": [
    "accidents_per_hour_2019"
   ]
  },
  {
   "cell_type": "markdown",
   "id": "020eaab4",
   "metadata": {},
   "source": [
    "<h1> No. 10 The time period with the highest number of accidents was 17:00-18:00, aligning with peak rush hour."
   ]
  },
  {
   "cell_type": "code",
   "execution_count": 66,
   "id": "0aa1a770",
   "metadata": {},
   "outputs": [],
   "source": [
    "accidents_weekend_2019 = acc_2019['IsWeekend'].value_counts()"
   ]
  },
  {
   "cell_type": "code",
   "execution_count": 67,
   "id": "664d514b",
   "metadata": {},
   "outputs": [
    {
     "data": {
      "text/plain": [
       "IsWeekend\n",
       "False    51006\n",
       "True     20861\n",
       "Name: count, dtype: int64"
      ]
     },
     "execution_count": 67,
     "metadata": {},
     "output_type": "execute_result"
    }
   ],
   "source": [
    "accidents_weekend_2019"
   ]
  },
  {
   "cell_type": "markdown",
   "id": "cc301e1d",
   "metadata": {},
   "source": [
    "<h1> No. 11 Weekends showed a lower accident rate compared to weekdays, reinforcing the impact of work commutes on accident frequency."
   ]
  },
  {
   "cell_type": "code",
   "execution_count": 77,
   "id": "d19a5d0e",
   "metadata": {},
   "outputs": [],
   "source": [
    "casualties_per_severity = acc.groupby('Accident_Severity')['Number_of_Casualties'].mean()"
   ]
  },
  {
   "cell_type": "code",
   "execution_count": 78,
   "id": "88a947bc",
   "metadata": {},
   "outputs": [
    {
     "data": {
      "text/plain": [
       "Accident_Severity\n",
       "Fatal      1.903129\n",
       "Serious    1.467280\n",
       "Slight     1.331402\n",
       "Name: Number_of_Casualties, dtype: float64"
      ]
     },
     "execution_count": 78,
     "metadata": {},
     "output_type": "execute_result"
    }
   ],
   "source": [
    "casualties_per_severity"
   ]
  },
  {
   "cell_type": "markdown",
   "id": "26637a87",
   "metadata": {},
   "source": [
    "<h1> No. 12 Most accidents fall under Slight severity, followed by Serious and Fatal."
   ]
  },
  {
   "cell_type": "code",
   "execution_count": 79,
   "id": "f14cfd20",
   "metadata": {},
   "outputs": [],
   "source": [
    "casualties_by_road_surface = acc.groupby('Road_Surface_Conditions')['Number_of_Casualties'].mean()"
   ]
  },
  {
   "cell_type": "code",
   "execution_count": 80,
   "id": "95008d35",
   "metadata": {},
   "outputs": [
    {
     "data": {
      "text/plain": [
       "Road_Surface_Conditions\n",
       "Dry                     1.334545\n",
       "Flood over 3cm. deep    1.495575\n",
       "Frost or ice            1.348815\n",
       "Snow                    1.359593\n",
       "Wet or damp             1.411064\n",
       "Name: Number_of_Casualties, dtype: float64"
      ]
     },
     "execution_count": 80,
     "metadata": {},
     "output_type": "execute_result"
    }
   ],
   "source": [
    "casualties_by_road_surface"
   ]
  },
  {
   "cell_type": "markdown",
   "id": "f2fde9e0",
   "metadata": {},
   "source": [
    "<h1> No. 13 Wet and icy roads show higher casualty rates"
   ]
  },
  {
   "cell_type": "code",
   "execution_count": 81,
   "id": "310cfe2e",
   "metadata": {},
   "outputs": [],
   "source": [
    "accidents_urban_rural = acc.groupby(['Urban_or_Rural_Area', 'Accident_Severity']).size().unstack()"
   ]
  },
  {
   "cell_type": "code",
   "execution_count": 82,
   "id": "07951d0f",
   "metadata": {},
   "outputs": [
    {
     "data": {
      "text/html": [
       "<div>\n",
       "<style scoped>\n",
       "    .dataframe tbody tr th:only-of-type {\n",
       "        vertical-align: middle;\n",
       "    }\n",
       "\n",
       "    .dataframe tbody tr th {\n",
       "        vertical-align: top;\n",
       "    }\n",
       "\n",
       "    .dataframe thead th {\n",
       "        text-align: right;\n",
       "    }\n",
       "</style>\n",
       "<table border=\"1\" class=\"dataframe\">\n",
       "  <thead>\n",
       "    <tr style=\"text-align: right;\">\n",
       "      <th>Accident_Severity</th>\n",
       "      <th>Fatal</th>\n",
       "      <th>Serious</th>\n",
       "      <th>Slight</th>\n",
       "    </tr>\n",
       "    <tr>\n",
       "      <th>Urban_or_Rural_Area</th>\n",
       "      <th></th>\n",
       "      <th></th>\n",
       "      <th></th>\n",
       "    </tr>\n",
       "  </thead>\n",
       "  <tbody>\n",
       "    <tr>\n",
       "      <th>Rural</th>\n",
       "      <td>5601</td>\n",
       "      <td>37312</td>\n",
       "      <td>196077</td>\n",
       "    </tr>\n",
       "    <tr>\n",
       "      <th>Unallocated</th>\n",
       "      <td>0</td>\n",
       "      <td>1</td>\n",
       "      <td>10</td>\n",
       "    </tr>\n",
       "    <tr>\n",
       "      <th>Urban</th>\n",
       "      <td>3060</td>\n",
       "      <td>50904</td>\n",
       "      <td>367714</td>\n",
       "    </tr>\n",
       "  </tbody>\n",
       "</table>\n",
       "</div>"
      ],
      "text/plain": [
       "Accident_Severity    Fatal  Serious  Slight\n",
       "Urban_or_Rural_Area                        \n",
       "Rural                 5601    37312  196077\n",
       "Unallocated              0        1      10\n",
       "Urban                 3060    50904  367714"
      ]
     },
     "execution_count": 82,
     "metadata": {},
     "output_type": "execute_result"
    }
   ],
   "source": [
    "accidents_urban_rural"
   ]
  },
  {
   "cell_type": "markdown",
   "id": "47d1fe22",
   "metadata": {},
   "source": [
    "<h1> No. 14 Urban areas have far more accidents than rural areas"
   ]
  },
  {
   "cell_type": "code",
   "execution_count": null,
   "id": "b57b1016",
   "metadata": {},
   "outputs": [],
   "source": [
    "accidents_by_road_type = acc['Road_Type'].value_counts()"
   ]
  },
  {
   "cell_type": "code",
   "execution_count": 84,
   "id": "4e3a5e7f",
   "metadata": {},
   "outputs": [
    {
     "data": {
      "text/plain": [
       "Road_Type\n",
       "Single carriageway    492143\n",
       "Dual carriageway       99424\n",
       "Roundabout             43992\n",
       "One way street         13559\n",
       "Slip road               7041\n",
       "Name: count, dtype: int64"
      ]
     },
     "execution_count": 84,
     "metadata": {},
     "output_type": "execute_result"
    }
   ],
   "source": [
    "accidents_by_road_type"
   ]
  },
  {
   "cell_type": "markdown",
   "id": "435ad0ff",
   "metadata": {},
   "source": [
    "<h1> No. 15 Single Carriageways have the highest number of accidents,"
   ]
  },
  {
   "cell_type": "code",
   "execution_count": 85,
   "id": "c4394554",
   "metadata": {},
   "outputs": [],
   "source": [
    "accidents_by_weather = acc['Weather_Conditions'].value_counts()"
   ]
  },
  {
   "cell_type": "code",
   "execution_count": 86,
   "id": "38ee883a",
   "metadata": {},
   "outputs": [
    {
     "data": {
      "text/plain": [
       "Weather_Conditions\n",
       "Fine no high winds       520885\n",
       "Raining no high winds     79696\n",
       "Other                     17150\n",
       "Raining + high winds       9615\n",
       "Fine + high winds          8554\n",
       "Snowing no high winds      6238\n",
       "Fog or mist                3528\n",
       "Snowing + high winds        885\n",
       "Name: count, dtype: int64"
      ]
     },
     "execution_count": 86,
     "metadata": {},
     "output_type": "execute_result"
    }
   ],
   "source": [
    "accidents_by_weather"
   ]
  },
  {
   "cell_type": "markdown",
   "id": "f37eab5e",
   "metadata": {},
   "source": [
    "<h1> No. 16 Most accidents happen in clear weather."
   ]
  },
  {
   "cell_type": "code",
   "execution_count": 87,
   "id": "1f5ad8df",
   "metadata": {},
   "outputs": [],
   "source": [
    "correlation_matrix = acc[['Number_of_Vehicles', 'Number_of_Casualties', 'Hour']].corr()"
   ]
  },
  {
   "cell_type": "code",
   "execution_count": 88,
   "id": "48862fbe",
   "metadata": {},
   "outputs": [
    {
     "data": {
      "text/html": [
       "<div>\n",
       "<style scoped>\n",
       "    .dataframe tbody tr th:only-of-type {\n",
       "        vertical-align: middle;\n",
       "    }\n",
       "\n",
       "    .dataframe tbody tr th {\n",
       "        vertical-align: top;\n",
       "    }\n",
       "\n",
       "    .dataframe thead th {\n",
       "        text-align: right;\n",
       "    }\n",
       "</style>\n",
       "<table border=\"1\" class=\"dataframe\">\n",
       "  <thead>\n",
       "    <tr style=\"text-align: right;\">\n",
       "      <th></th>\n",
       "      <th>Number_of_Vehicles</th>\n",
       "      <th>Number_of_Casualties</th>\n",
       "      <th>Hour</th>\n",
       "    </tr>\n",
       "  </thead>\n",
       "  <tbody>\n",
       "    <tr>\n",
       "      <th>Number_of_Vehicles</th>\n",
       "      <td>1.000000</td>\n",
       "      <td>0.228889</td>\n",
       "      <td>NaN</td>\n",
       "    </tr>\n",
       "    <tr>\n",
       "      <th>Number_of_Casualties</th>\n",
       "      <td>0.228889</td>\n",
       "      <td>1.000000</td>\n",
       "      <td>NaN</td>\n",
       "    </tr>\n",
       "    <tr>\n",
       "      <th>Hour</th>\n",
       "      <td>NaN</td>\n",
       "      <td>NaN</td>\n",
       "      <td>NaN</td>\n",
       "    </tr>\n",
       "  </tbody>\n",
       "</table>\n",
       "</div>"
      ],
      "text/plain": [
       "                      Number_of_Vehicles  Number_of_Casualties  Hour\n",
       "Number_of_Vehicles              1.000000              0.228889   NaN\n",
       "Number_of_Casualties            0.228889              1.000000   NaN\n",
       "Hour                                 NaN                   NaN   NaN"
      ]
     },
     "execution_count": 88,
     "metadata": {},
     "output_type": "execute_result"
    }
   ],
   "source": [
    "correlation_matrix"
   ]
  },
  {
   "cell_type": "markdown",
   "id": "2b93551f",
   "metadata": {},
   "source": [
    "<h1> No. 17 Number of Vehicles and Casualties have a moderate positive correlation"
   ]
  },
  {
   "cell_type": "code",
   "execution_count": 89,
   "id": "618b04de",
   "metadata": {},
   "outputs": [],
   "source": [
    "accidents_per_month = acc['Month'].value_counts()"
   ]
  },
  {
   "cell_type": "code",
   "execution_count": 90,
   "id": "a52f6b52",
   "metadata": {},
   "outputs": [
    {
     "data": {
      "text/plain": [
       "Month\n",
       "11.0    24240\n",
       "12.0    24156\n",
       "10.0    23962\n",
       "7.0     22939\n",
       "9.0     22558\n",
       "2.0     22264\n",
       "6.0     22196\n",
       "3.0     21824\n",
       "5.0     21723\n",
       "8.0     21106\n",
       "4.0     19787\n",
       "1.0     18252\n",
       "Name: count, dtype: int64"
      ]
     },
     "execution_count": 90,
     "metadata": {},
     "output_type": "execute_result"
    }
   ],
   "source": [
    "accidents_per_month"
   ]
  },
  {
   "cell_type": "markdown",
   "id": "c9857ad1",
   "metadata": {},
   "source": [
    "<h1> No. 18 The dataset shows peaks in October and December, likely due to seasonal factors (weather, holidays, increased travel)."
   ]
  },
  {
   "cell_type": "code",
   "execution_count": 91,
   "id": "cfd8ea09",
   "metadata": {},
   "outputs": [],
   "source": [
    "casualties_per_severity = acc.groupby('Accident_Severity')['Number_of_Casualties'].mean()"
   ]
  },
  {
   "cell_type": "code",
   "execution_count": 92,
   "id": "448c2032",
   "metadata": {},
   "outputs": [
    {
     "data": {
      "text/plain": [
       "Accident_Severity\n",
       "Fatal      1.903129\n",
       "Serious    1.467280\n",
       "Slight     1.331402\n",
       "Name: Number_of_Casualties, dtype: float64"
      ]
     },
     "execution_count": 92,
     "metadata": {},
     "output_type": "execute_result"
    }
   ],
   "source": [
    "casualties_per_severity"
   ]
  },
  {
   "cell_type": "markdown",
   "id": "1e2d54db",
   "metadata": {},
   "source": [
    "<h1> No. 19 Fatal accidents have the highest casualty rate."
   ]
  },
  {
   "cell_type": "code",
   "execution_count": 94,
   "id": "63a75dca",
   "metadata": {},
   "outputs": [],
   "source": [
    "vehicles_per_severity = acc.groupby('Accident_Severity')['Number_of_Vehicles'].mean()\n"
   ]
  },
  {
   "cell_type": "code",
   "execution_count": 95,
   "id": "5289f49c",
   "metadata": {},
   "outputs": [
    {
     "data": {
      "text/plain": [
       "Accident_Severity\n",
       "Fatal      1.786976\n",
       "Serious    1.678327\n",
       "Slight     1.855864\n",
       "Name: Number_of_Vehicles, dtype: float64"
      ]
     },
     "execution_count": 95,
     "metadata": {},
     "output_type": "execute_result"
    }
   ],
   "source": [
    "vehicles_per_severity"
   ]
  },
  {
   "cell_type": "markdown",
   "id": "0cf279a7",
   "metadata": {},
   "source": [
    "<h1> No. 20 Fatal accidents involve a higher average number of vehicles than Slight or Serious accidents."
   ]
  },
  {
   "cell_type": "code",
   "execution_count": 96,
   "id": "4040ddde",
   "metadata": {},
   "outputs": [],
   "source": [
    "accident_severity_counts = acc['Accident_Severity'].value_counts()"
   ]
  },
  {
   "cell_type": "code",
   "execution_count": 97,
   "id": "ab34acbe",
   "metadata": {},
   "outputs": [
    {
     "data": {
      "text/plain": [
       "Accident_Severity\n",
       "Slight     563801\n",
       "Serious     88217\n",
       "Fatal        8661\n",
       "Name: count, dtype: int64"
      ]
     },
     "execution_count": 97,
     "metadata": {},
     "output_type": "execute_result"
    }
   ],
   "source": [
    "accident_severity_counts"
   ]
  },
  {
   "cell_type": "markdown",
   "id": "7f59c5ee",
   "metadata": {},
   "source": [
    "<h1> No. 21 Most accidents fall under Slight severity, followed by Serious and Fatal."
   ]
  },
  {
   "cell_type": "markdown",
   "id": "abe3caa1-0f21-4207-ade3-00727a774018",
   "metadata": {},
   "source": [
    "<h1> 2019 has the highest number of accident."
   ]
  },
  {
   "cell_type": "code",
   "execution_count": null,
   "id": "6939e392-225b-4f1f-b8b9-24cf9c39ac6c",
   "metadata": {},
   "outputs": [],
   "source": []
  }
 ],
 "metadata": {
  "kernelspec": {
   "display_name": "Python 3 (ipykernel)",
   "language": "python",
   "name": "python3"
  },
  "language_info": {
   "codemirror_mode": {
    "name": "ipython",
    "version": 3
   },
   "file_extension": ".py",
   "mimetype": "text/x-python",
   "name": "python",
   "nbconvert_exporter": "python",
   "pygments_lexer": "ipython3",
   "version": "3.13.2"
  }
 },
 "nbformat": 4,
 "nbformat_minor": 5
}
